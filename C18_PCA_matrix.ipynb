{
 "cells": [
  {
   "cell_type": "markdown",
   "metadata": {},
   "source": [
    "## Ejemplo simple de uso de Análisis de Componentes Principales (PCA)"
   ]
  },
  {
   "cell_type": "code",
   "execution_count": 1,
   "metadata": {
    "collapsed": true
   },
   "outputs": [],
   "source": [
    "%matplotlib inline\n",
    "import numpy as np\n",
    "from numpy import linalg as la\n",
    "import matplotlib.pyplot as plt"
   ]
  },
  {
   "cell_type": "code",
   "execution_count": 2,
   "metadata": {},
   "outputs": [
    {
     "name": "stdout",
     "output_type": "stream",
     "text": [
      "[[10 20 10]\n",
      " [ 2  5  2]\n",
      " [ 8 17  7]\n",
      " [ 9 20 10]\n",
      " [12 22 11]]\n"
     ]
    }
   ],
   "source": [
    "DATA = np.array([[10,20,10],\n",
    "              [2,5,2],\n",
    "              [8,17,7],\n",
    "              [9,20,10],\n",
    "              [12,22,11]])\n",
    "print DATA"
   ]
  },
  {
   "cell_type": "markdown",
   "metadata": {},
   "source": [
    "Esta matrix de datos representa 5 observaciones de 3 atributos.  O sea, 4 puntos en 3D.  Por ejemplo el primer dato es:"
   ]
  },
  {
   "cell_type": "code",
   "execution_count": 3,
   "metadata": {},
   "outputs": [
    {
     "name": "stdout",
     "output_type": "stream",
     "text": [
      "[2 5 2]\n"
     ]
    }
   ],
   "source": [
    "print DATA[1,:]"
   ]
  },
  {
   "cell_type": "markdown",
   "metadata": {},
   "source": [
    "y todos los valores del primer atributo (llamémosle 'X'):"
   ]
  },
  {
   "cell_type": "code",
   "execution_count": 4,
   "metadata": {},
   "outputs": [
    {
     "name": "stdout",
     "output_type": "stream",
     "text": [
      "[10  2  8  9 12]\n"
     ]
    }
   ],
   "source": [
    "print DATA[:,0]"
   ]
  },
  {
   "cell_type": "markdown",
   "metadata": {},
   "source": [
    "Ahora calculamos la matriz de covarianza:"
   ]
  },
  {
   "cell_type": "code",
   "execution_count": 5,
   "metadata": {
    "collapsed": true
   },
   "outputs": [],
   "source": [
    "np.cov?"
   ]
  },
  {
   "cell_type": "code",
   "execution_count": 6,
   "metadata": {},
   "outputs": [
    {
     "name": "stdout",
     "output_type": "stream",
     "text": [
      "[[ 14.2   25.3   13.5 ]\n",
      " [ 25.3   46.7   24.75]\n",
      " [ 13.5   24.75  13.5 ]]\n"
     ]
    }
   ],
   "source": [
    "DATA = np.mat(DATA)\n",
    "meanVals = np.mean(DATA, axis=0)\n",
    "A = DATA - meanVals\n",
    "C = np.cov(A, rowvar=False)\n",
    "print C"
   ]
  },
  {
   "cell_type": "code",
   "execution_count": 7,
   "metadata": {},
   "outputs": [
    {
     "name": "stdout",
     "output_type": "stream",
     "text": [
      "[[ 14.2   25.3   13.5 ]\n",
      " [ 25.3   46.7   24.75]\n",
      " [ 13.5   24.75  13.5 ]]\n"
     ]
    }
   ],
   "source": [
    "# Otra forma de calcularlo es: C = (1/(N-1)) A.T*A\n",
    "print np.dot(A.T,A) /(np.shape(DATA)[0]-1)"
   ]
  },
  {
   "cell_type": "markdown",
   "metadata": {},
   "source": [
    "Ahora calculamos los autovalores y autovectores de la matriz de covarianza:"
   ]
  },
  {
   "cell_type": "code",
   "execution_count": 8,
   "metadata": {},
   "outputs": [
    {
     "name": "stdout",
     "output_type": "stream",
     "text": [
      "Autovalores:\n",
      "[ 73.72   0.38   0.3 ]\n",
      "\n",
      "Autovectores:\n",
      "[[ 0.43  0.9  -0.04]\n",
      " [ 0.79 -0.41 -0.45]\n",
      " [ 0.42 -0.16  0.89]]\n"
     ]
    }
   ],
   "source": [
    "np.set_printoptions(precision=2,suppress=True)\n",
    "\n",
    "autoVal, autoVec = la.eig(C)\n",
    "\n",
    "print \"Autovalores:\"\n",
    "print autoVal\n",
    "print\n",
    "print \"Autovectores:\"\n",
    "print autoVec"
   ]
  },
  {
   "cell_type": "markdown",
   "metadata": {},
   "source": [
    "Usando los autovectores, podemos hacer una transformación del espacio de atributos original al espacio de las componentes principales.   La matriz de transformación es la matriz que tiene en las columnas los autovectores."
   ]
  },
  {
   "cell_type": "code",
   "execution_count": 9,
   "metadata": {},
   "outputs": [
    {
     "name": "stdout",
     "output_type": "stream",
     "text": [
      "[[  4.17   0.     0.26]\n",
      " [-14.61   0.17   0.25]\n",
      " [ -0.35  -0.1   -0.97]\n",
      " [  3.74  -0.9    0.3 ]\n",
      " [  7.05   0.83   0.16]]\n"
     ]
    }
   ],
   "source": [
    "Transf = autoVec.T\n",
    "\n",
    "DATA_pc = np.dot(Transf, A.T)\n",
    "\n",
    "print DATA_pc.T"
   ]
  },
  {
   "cell_type": "markdown",
   "metadata": {},
   "source": [
    "La coordenada X' de todos los puntos es:"
   ]
  },
  {
   "cell_type": "code",
   "execution_count": 10,
   "metadata": {},
   "outputs": [
    {
     "data": {
      "text/plain": [
       "matrix([[  4.17],\n",
       "        [-14.61],\n",
       "        [ -0.35],\n",
       "        [  3.74],\n",
       "        [  7.05]])"
      ]
     },
     "execution_count": 10,
     "metadata": {},
     "output_type": "execute_result"
    }
   ],
   "source": [
    "DATA_pc.T[:,0]"
   ]
  },
  {
   "cell_type": "markdown",
   "metadata": {},
   "source": [
    "Sin embargo, estos autovectores no están ordenados por importancia.  Para hacer eso podemos ordenar los autovalores y quedarnos con las primeras componentes principales:\n",
    "\n",
    "However, typically, we want a lower-dimensional space. We can sort the eigenvectors in the decreasing order of their eigenvalues and take the top k. In the example below, we'll take only the top first principal component (since it has the largest eigenvalue, no sorting necessary):"
   ]
  },
  {
   "cell_type": "code",
   "execution_count": 11,
   "metadata": {},
   "outputs": [
    {
     "name": "stdout",
     "output_type": "stream",
     "text": [
      "[ 73.72   0.38   0.3 ]\n",
      "[0 1 2]\n"
     ]
    }
   ],
   "source": [
    "print autoVal\n",
    "principal = np.argsort(autoVal)[::-1]\n",
    "print principal"
   ]
  },
  {
   "cell_type": "code",
   "execution_count": 12,
   "metadata": {},
   "outputs": [
    {
     "name": "stdout",
     "output_type": "stream",
     "text": [
      "[[  4.17 -14.61  -0.35   3.74   7.05]]\n",
      "[[ 0.    0.17 -0.1  -0.9   0.83]]\n"
     ]
    }
   ],
   "source": [
    "X = DATA_pc[principal[0],:]\n",
    "Y = DATA_pc[principal[1],:]\n",
    "print X\n",
    "print Y"
   ]
  },
  {
   "cell_type": "code",
   "execution_count": 13,
   "metadata": {},
   "outputs": [
    {
     "name": "stdout",
     "output_type": "stream",
     "text": [
      "[[  4.17 -14.61  -0.35   3.74   7.05]\n",
      " [  0.     0.17  -0.1   -0.9    0.83]]\n"
     ]
    }
   ],
   "source": [
    "Ndim = 2  # Nro. de dimensiones de la proyección\n",
    "DATA_redux = DATA_pc[principal[0:Ndim],:]\n",
    "\n",
    "print DATA_redux"
   ]
  },
  {
   "cell_type": "code",
   "execution_count": 14,
   "metadata": {},
   "outputs": [
    {
     "data": {
      "image/png": "[encoded data removed]",
      "text/plain": [
       "<matplotlib.figure.Figure at 0x7f47bb7ef690>"
      ]
     },
     "metadata": {},
     "output_type": "display_data"
    }
   ],
   "source": [
    "plt.plot(DATA_redux[0,:], DATA_redux[1,:],'ob')\n",
    "plt.show()"
   ]
  },
  {
   "cell_type": "markdown",
   "metadata": {
    "collapsed": true
   },
   "source": [
    "Ahora en 3D:"
   ]
  },
  {
   "cell_type": "code",
   "execution_count": 15,
   "metadata": {
    "collapsed": true
   },
   "outputs": [],
   "source": [
    "X = DATA[:,0].T.tolist()[0]\n",
    "Y = DATA[:,1].T.tolist()[0]\n",
    "Z = DATA[:,2].T.tolist()[0]"
   ]
  },
  {
   "cell_type": "code",
   "execution_count": 16,
   "metadata": {},
   "outputs": [
    {
     "name": "stdout",
     "output_type": "stream",
     "text": [
      "Populating the interactive namespace from numpy and matplotlib\n"
     ]
    },
    {
     "data": {
      "image/png": "[encoded data removed]",
      "text/plain": [
       "<matplotlib.figure.Figure at 0x7f47b9680c10>"
      ]
     },
     "metadata": {},
     "output_type": "display_data"
    }
   ],
   "source": [
    "%pylab inline\n",
    "from matplotlib import pyplot as plt\n",
    "from mpl_toolkits.mplot3d import Axes3D\n",
    "from mpl_toolkits.mplot3d import proj3d\n",
    "\n",
    "fig = plt.figure(figsize=(5,5))\n",
    "ax = fig.add_subplot(111, projection='3d')\n",
    "plt.rcParams['legend.fontsize'] = 10   \n",
    "ax.plot(X,Y,Z, 'o', markersize=8, color='blue', alpha=0.5)\n",
    "plt.show()"
   ]
  },
  {
   "cell_type": "markdown",
   "metadata": {},
   "source": [
    "Ahora interactivo!"
   ]
  },
  {
   "cell_type": "code",
   "execution_count": 17,
   "metadata": {
    "collapsed": true
   },
   "outputs": [],
   "source": [
    "import plotly\n",
    "import plotly.graph_objs as go\n",
    "plotly.tools.set_credentials_file(username='mlares', api_key='moDuohGxKWp0gZJI4K2i')"
   ]
  },
  {
   "cell_type": "code",
   "execution_count": 18,
   "metadata": {
    "collapsed": true
   },
   "outputs": [],
   "source": [
    "trace1 = go.Scatter3d(\n",
    "    x=X,\n",
    "    y=Y,\n",
    "    z=Z,\n",
    "    mode='markers',\n",
    "    marker=dict(\n",
    "        size=12,\n",
    "        line=dict(\n",
    "            color='rgba(217, 217, 217, 0.14)',\n",
    "            width=0.5\n",
    "        ),\n",
    "        opacity=0.8\n",
    "    )\n",
    ")"
   ]
  },
  {
   "cell_type": "code",
   "execution_count": 19,
   "metadata": {
    "collapsed": true
   },
   "outputs": [],
   "source": [
    "data = [trace1]\n",
    "layout = go.Layout(\n",
    "    margin=dict(\n",
    "        l=0,\n",
    "        r=0,\n",
    "        b=0,\n",
    "        t=0\n",
    "    )\n",
    ")"
   ]
  },
  {
   "cell_type": "code",
   "execution_count": 20,
   "metadata": {},
   "outputs": [
    {
     "data": {
      "text/html": [
       "<iframe id=\"igraph\" scrolling=\"no\" style=\"border:none;\" seamless=\"seamless\" src=\"https://plot.ly/~mlares/2.embed\" height=\"525px\" width=\"100%\"></iframe>"
      ],
      "text/plain": [
       "<plotly.tools.PlotlyDisplay object>"
      ]
     },
     "execution_count": 20,
     "metadata": {},
     "output_type": "execute_result"
    }
   ],
   "source": [
    "fig = go.Figure(data=data, layout=layout)\n",
    "plotly.plotly.iplot(fig, filename='PCA-3d-scatter')"
   ]
  },
  {
   "cell_type": "markdown",
   "metadata": {},
   "source": [
    "Ahora pasamos al espacio de la PC:"
   ]
  },
  {
   "cell_type": "code",
   "execution_count": 21,
   "metadata": {
    "collapsed": true
   },
   "outputs": [],
   "source": [
    "X = DATA_pc.T[:,0].T.tolist()[0]\n",
    "Y = DATA_pc.T[:,1].T.tolist()[0]\n",
    "Z = DATA_pc.T[:,2].T.tolist()[0]"
   ]
  },
  {
   "cell_type": "code",
   "execution_count": 22,
   "metadata": {},
   "outputs": [
    {
     "data": {
      "text/plain": [
       "[0.0, 0.0, 0.0, 0.0, 0.0]"
      ]
     },
     "execution_count": 22,
     "metadata": {},
     "output_type": "execute_result"
    }
   ],
   "source": [
    "Zr = [0.]*len(Z)\n",
    "Zr"
   ]
  },
  {
   "cell_type": "code",
   "execution_count": 23,
   "metadata": {
    "collapsed": true
   },
   "outputs": [],
   "source": [
    "trace_data = go.Scatter3d(\n",
    "    x=X,\n",
    "    y=Y,\n",
    "    z=Z,\n",
    "    mode='markers',\n",
    "    marker=dict(\n",
    "        size=12,\n",
    "        line=dict(\n",
    "            color='rgba(217, 217, 217, 0.14)',\n",
    "            width=0.5\n",
    "        ),\n",
    "        opacity=0.8\n",
    "    )\n",
    ")"
   ]
  },
  {
   "cell_type": "code",
   "execution_count": 24,
   "metadata": {
    "collapsed": true
   },
   "outputs": [],
   "source": [
    "trace_proj = go.Scatter3d(\n",
    "    x=X,\n",
    "    y=Y,\n",
    "    z=Zr,\n",
    "    mode='markers',\n",
    "    marker=dict(\n",
    "        size=12,\n",
    "        line=dict(\n",
    "            color='rgba(217, 217, 217, 0.14)',\n",
    "            width=0.5\n",
    "        ),\n",
    "        opacity=0.8\n",
    "    )\n",
    ")"
   ]
  },
  {
   "cell_type": "code",
   "execution_count": 25,
   "metadata": {
    "collapsed": true
   },
   "outputs": [],
   "source": [
    "data = [trace_data, trace_proj]\n",
    "layout = go.Layout(\n",
    "    margin=dict(\n",
    "        l=0,\n",
    "        r=0,\n",
    "        b=0,\n",
    "        t=0\n",
    "    )\n",
    ")"
   ]
  },
  {
   "cell_type": "code",
   "execution_count": 26,
   "metadata": {},
   "outputs": [
    {
     "data": {
      "text/html": [
       "<iframe id=\"igraph\" scrolling=\"no\" style=\"border:none;\" seamless=\"seamless\" src=\"https://plot.ly/~mlares/2.embed\" height=\"525px\" width=\"100%\"></iframe>"
      ],
      "text/plain": [
       "<plotly.tools.PlotlyDisplay object>"
      ]
     },
     "execution_count": 26,
     "metadata": {},
     "output_type": "execute_result"
    }
   ],
   "source": [
    "fig = go.Figure(data=data, layout=layout)\n",
    "plotly.plotly.iplot(fig, filename='PCA-3d-scatter')"
   ]
  },
  {
   "cell_type": "code",
   "execution_count": null,
   "metadata": {
    "collapsed": true
   },
   "outputs": [],
   "source": []
  },
  {
   "cell_type": "markdown",
   "metadata": {
    "collapsed": true
   },
   "source": [
    "### Ahora veamos con más puntos:"
   ]
  },
  {
   "cell_type": "code",
   "execution_count": 28,
   "metadata": {},
   "outputs": [
    {
     "name": "stderr",
     "output_type": "stream",
     "text": [
      "/home/marce/TeachJob/Astrometria/pyramid/lib/python2.7/site-packages/ipykernel_launcher.py:2: RuntimeWarning:\n",
      "\n",
      "covariance is not positive-semidefinite.\n",
      "\n"
     ]
    }
   ],
   "source": [
    "Nsample = 300\n",
    "X, Y = np.random.multivariate_normal(mean=[0., 0.], cov=[[1., 0.3],[0.7, 1.]], size=Nsample).T\n",
    "\n",
    "def plano(x,y):\n",
    "    z = 3*x - 2.*y\n",
    "    return z\n",
    "\n",
    "Z = plano(X,Y) + np.random.normal(loc=0.0, scale=1.5, size=Nsample)"
   ]
  },
  {
   "cell_type": "code",
   "execution_count": 29,
   "metadata": {},
   "outputs": [
    {
     "data": {
      "text/html": [
       "<iframe id=\"igraph\" scrolling=\"no\" style=\"border:none;\" seamless=\"seamless\" src=\"https://plot.ly/~mlares/2.embed\" height=\"525px\" width=\"100%\"></iframe>"
      ],
      "text/plain": [
       "<plotly.tools.PlotlyDisplay object>"
      ]
     },
     "execution_count": 29,
     "metadata": {},
     "output_type": "execute_result"
    }
   ],
   "source": [
    "trace = go.Scatter3d(\n",
    "    x=X,\n",
    "    y=Y,\n",
    "    z=Z,\n",
    "    mode='markers',\n",
    "    marker=dict(\n",
    "        size=2,\n",
    "        line=dict(\n",
    "            color='rgba(217, 217, 217, 0.14)',\n",
    "            width=0.\n",
    "        ),\n",
    "        opacity=0.8\n",
    "    )\n",
    ")\n",
    "data = [trace]\n",
    "layout = go.Layout(\n",
    "    margin=dict(\n",
    "        l=0,\n",
    "        r=0,\n",
    "        b=0,\n",
    "        t=0\n",
    "    )\n",
    ")\n",
    "fig = go.Figure(data=data, layout=layout)\n",
    "plotly.plotly.iplot(fig, filename='PCA-3d-scatter')"
   ]
  },
  {
   "cell_type": "code",
   "execution_count": 30,
   "metadata": {
    "collapsed": true
   },
   "outputs": [],
   "source": [
    "DATA = np.column_stack([X,Y,Z])"
   ]
  },
  {
   "cell_type": "code",
   "execution_count": 31,
   "metadata": {},
   "outputs": [
    {
     "name": "stdout",
     "output_type": "stream",
     "text": [
      "[[  1.14   0.45   2.63]\n",
      " [  0.45   1.01  -0.49]\n",
      " [  2.63  -0.49  11.1 ]]\n"
     ]
    }
   ],
   "source": [
    "DATA = np.mat(DATA)\n",
    "meanVals = np.mean(DATA, axis=0)\n",
    "A = DATA - meanVals\n",
    "C = np.cov(A, rowvar=False)\n",
    "print C"
   ]
  },
  {
   "cell_type": "code",
   "execution_count": 32,
   "metadata": {
    "collapsed": true
   },
   "outputs": [],
   "source": [
    "autoVal, autoVec = la.eig(C)\n",
    "Transf = autoVec.T\n",
    "DATA_pc = np.dot(Transf, A.T)"
   ]
  },
  {
   "cell_type": "code",
   "execution_count": 33,
   "metadata": {},
   "outputs": [
    {
     "name": "stdout",
     "output_type": "stream",
     "text": [
      "[ 11.76   0.13   1.36]\n",
      "[0 2 1]\n"
     ]
    }
   ],
   "source": [
    "print autoVal\n",
    "principal = np.argsort(autoVal)[::-1]\n",
    "print principal"
   ]
  },
  {
   "cell_type": "code",
   "execution_count": 34,
   "metadata": {
    "collapsed": true
   },
   "outputs": [],
   "source": [
    "X = DATA_pc[principal[0],:]\n",
    "Y = DATA_pc[principal[1],:]"
   ]
  },
  {
   "cell_type": "code",
   "execution_count": 35,
   "metadata": {
    "collapsed": true
   },
   "outputs": [],
   "source": [
    "X = DATA_pc.T[:,principal[0]].T.tolist()[0]\n",
    "Y = DATA_pc.T[:,principal[1]].T.tolist()[0]\n",
    "Z = DATA_pc.T[:,principal[2]].T.tolist()[0]"
   ]
  },
  {
   "cell_type": "code",
   "execution_count": 36,
   "metadata": {},
   "outputs": [
    {
     "data": {
      "text/html": [
       "<iframe id=\"igraph\" scrolling=\"no\" style=\"border:none;\" seamless=\"seamless\" src=\"https://plot.ly/~mlares/2.embed\" height=\"525px\" width=\"100%\"></iframe>"
      ],
      "text/plain": [
       "<plotly.tools.PlotlyDisplay object>"
      ]
     },
     "execution_count": 36,
     "metadata": {},
     "output_type": "execute_result"
    }
   ],
   "source": [
    "Zr = [0.]*len(Z)\n",
    "\n",
    "trace_data = go.Scatter3d(\n",
    "    x=X,\n",
    "    y=Y,\n",
    "    z=Z,\n",
    "    mode='markers',\n",
    "    marker=dict(\n",
    "        size=3,\n",
    "        line=dict(\n",
    "            color='rgba(217, 217, 217, 0.14)',\n",
    "            width=0.0\n",
    "        ),\n",
    "        opacity=0.8\n",
    "    )\n",
    ")\n",
    "\n",
    "trace_proj = go.Scatter3d(\n",
    "    x=X,\n",
    "    y=Y,\n",
    "    z=Zr,\n",
    "    mode='markers',\n",
    "    marker=dict(\n",
    "        size=5,\n",
    "        line=dict(\n",
    "            color='rgba(217, 217, 217, 0.14)',\n",
    "            width=0.0\n",
    "        ),\n",
    "        opacity=1.\n",
    "    )\n",
    ")\n",
    "\n",
    "data = [trace_data, trace_proj]\n",
    "layout = go.Layout(\n",
    "    margin=dict(\n",
    "        l=0,\n",
    "        r=0,\n",
    "        b=0,\n",
    "        t=0\n",
    "    )\n",
    ")\n",
    "\n",
    "fig = go.Figure(data=data, layout=layout)\n",
    "plotly.plotly.iplot(fig, filename='PCA-3d-scatter')"
   ]
  },
  {
   "cell_type": "markdown",
   "metadata": {},
   "source": [
    "Veamos entonces la proyección en el subespacio de las primeras dos componentes principales"
   ]
  },
  {
   "cell_type": "code",
   "execution_count": 37,
   "metadata": {},
   "outputs": [
    {
     "data": {
      "image/png": "[encoded data removed]",
      "text/plain": [
       "<matplotlib.figure.Figure at 0x7f47b47eac50>"
      ]
     },
     "metadata": {},
     "output_type": "display_data"
    }
   ],
   "source": [
    "plt.scatter(X,Y)\n",
    "plt.show()"
   ]
  },
  {
   "cell_type": "code",
   "execution_count": null,
   "metadata": {
    "collapsed": true
   },
   "outputs": [],
   "source": []
  },
  {
   "cell_type": "code",
   "execution_count": null,
   "metadata": {
    "collapsed": true
   },
   "outputs": [],
   "source": []
  },
  {
   "cell_type": "code",
   "execution_count": null,
   "metadata": {
    "collapsed": true
   },
   "outputs": [],
   "source": []
  },
  {
   "cell_type": "code",
   "execution_count": null,
   "metadata": {
    "collapsed": true
   },
   "outputs": [],
   "source": []
  },
  {
   "cell_type": "code",
   "execution_count": null,
   "metadata": {
    "collapsed": true
   },
   "outputs": [],
   "source": []
  },
  {
   "cell_type": "code",
   "execution_count": null,
   "metadata": {
    "collapsed": true
   },
   "outputs": [],
   "source": []
  },
  {
   "cell_type": "markdown",
   "metadata": {},
   "source": [
    "We can also use Scikit-learn decomposition module to do the same thing:"
   ]
  },
  {
   "cell_type": "code",
   "execution_count": 38,
   "metadata": {
    "collapsed": true
   },
   "outputs": [],
   "source": [
    "from sklearn import decomposition"
   ]
  },
  {
   "cell_type": "code",
   "execution_count": 39,
   "metadata": {},
   "outputs": [
    {
     "ename": "ValueError",
     "evalue": "Expected 2D array, got 1D array instead:\narray=[ -3.     8.69  -4.76   1.42   4.4    0.19   1.52  -5.08  -0.25   3.8\n   0.83  -5.77   1.66   4.1    2.22  -8.27   6.07   0.64   3.23   2.32\n   5.27  -4.6   -6.38  -4.27   0.91   4.06   0.99  -5.65  -1.51  -1.78\n   0.74  -0.38  -3.09  -2.55   1.15  -1.91   1.59  -2.77  -0.21  -2.61\n   1.6    0.01   1.3    4.02   1.39  -2.96  -2.54   2.97   0.6   -2.82\n   3.71  -3.69  -2.94  -2.48   2.82   6.25  -3.99   4.57  -4.23   1.09\n  -1.76   5.57  -2.26   1.27   1.78   2.82  -1.46   4.62  -1.83   1.39\n  -2.67   2.96   0.94  -3.59  -1.16   7.26  -6.23  -6.6    0.83  -3.32\n   3.6   -0.91   7.71  -2.71   1.91  -2.27  -3.03  -2.6    4.44  -1.75\n   0.92   2.1   -0.93  -1.38  -1.51  -0.73   3.62  -2.8   -0.86   4.22\n  -4.57   5.77  -0.19  -5.88   2.24   0.55  -0.11  -3.74   0.38   0.56\n   4.28  -0.05  -1.92   0.33  -4.88  -3.76  -4.33   2.04   1.88   0.48\n  -3.07   2.14   2.97   3.56   3.96   7.2    0.2   -3.34  -6.21   5.38\n  -0.22   4.18   0.8    1.89   1.35  -4.05   0.89  -0.67   2.86   1.13\n   5.29  -0.92   1.93  -1.32  -2.41   6.67   2.67  -2.45  -1.34  -5.77\n   1.5    3.3   -4.05   3.28  -4.25  -0.2   -4.01   0.49  -2.91  -4.21\n   1.01  -0.59   1.16   1.02   2.48   1.04   2.26   8.3    3.35   0.7\n   1.82   3.25   4.66   1.12  -0.07  -3.83   0.86  -0.82  -1.71   4.16\n   0.01   4.36  -5.42  -1.7   -0.87   5.67  -0.52   0.61  -2.03   1.67\n  -2.49  -0.7   -0.92  -2.09   1.38   4.68   1.64  -4.38   0.45   1.72\n  -2.32  -4.14   1.29  -3.85   3.81   6.17   1.38  -1.61   2.78   3.48\n  -0.41   0.65  -0.62  -4.4    0.03   2.19  -7.82   4.48  -3.02   0.57\n  -2.12   4.5   -0.21   5.14   0.06   0.14  -1.38   4.4    6.06  -0.37\n   2.17  -4.25   3.99  -4.03  -4.74  -0.31   1.97   2.34  -0.97  -1.29\n  -6.86   1.19   0.71  -3.7    3.06  -3.36  -5.69   0.46  -4.8    0.13\n   4.18   0.37   5.44 -10.8   -3.34   0.55  -3.85   6.57  -1.51  -1.06\n  -1.07  -3.93   3.12  -0.44  -2.76  -1.98  -7.98  -2.09   5.25   1.4\n   3.69   0.6    3.57   2.43  -2.55  -0.7   -0.9   -8.77  -1.65  -0.11\n  -3.52   4.66  -3.79  -3.78  -1.47  -1.44  -1.51   0.37  -4.64   5.59\n   3.64  -3.1    2.81  -8.98  -0.4    1.     5.94  -1.83   2.19   1.93].\nReshape your data either using array.reshape(-1, 1) if your data has a single feature or array.reshape(1, -1) if it contains a single sample.",
     "output_type": "error",
     "traceback": [
      "\u001b[0;31m---------------------------------------------------------------------------\u001b[0m",
      "\u001b[0;31mValueError\u001b[0m                                Traceback (most recent call last)",
      "\u001b[0;32m<ipython-input-39-d2c94b286e46>\u001b[0m in \u001b[0;36m<module>\u001b[0;34m()\u001b[0m\n\u001b[1;32m      1\u001b[0m \u001b[0mpca\u001b[0m \u001b[0;34m=\u001b[0m \u001b[0mdecomposition\u001b[0m\u001b[0;34m.\u001b[0m\u001b[0mPCA\u001b[0m\u001b[0;34m(\u001b[0m\u001b[0;34m)\u001b[0m\u001b[0;34m\u001b[0m\u001b[0m\n\u001b[0;32m----> 2\u001b[0;31m \u001b[0mXTrans2\u001b[0m \u001b[0;34m=\u001b[0m \u001b[0mpca\u001b[0m\u001b[0;34m.\u001b[0m\u001b[0mfit_transform\u001b[0m\u001b[0;34m(\u001b[0m\u001b[0mX\u001b[0m\u001b[0;34m)\u001b[0m\u001b[0;34m\u001b[0m\u001b[0m\n\u001b[0m\u001b[1;32m      3\u001b[0m \u001b[0;34m\u001b[0m\u001b[0m\n\u001b[1;32m      4\u001b[0m \u001b[0;32mprint\u001b[0m \u001b[0mXTrans2\u001b[0m\u001b[0;34m\u001b[0m\u001b[0m\n",
      "\u001b[0;32m/home/marce/TeachJob/Astrometria/pyramid/lib/python2.7/site-packages/sklearn/decomposition/pca.pyc\u001b[0m in \u001b[0;36mfit_transform\u001b[0;34m(self, X, y)\u001b[0m\n\u001b[1;32m    342\u001b[0m \u001b[0;34m\u001b[0m\u001b[0m\n\u001b[1;32m    343\u001b[0m         \"\"\"\n\u001b[0;32m--> 344\u001b[0;31m         \u001b[0mU\u001b[0m\u001b[0;34m,\u001b[0m \u001b[0mS\u001b[0m\u001b[0;34m,\u001b[0m \u001b[0mV\u001b[0m \u001b[0;34m=\u001b[0m \u001b[0mself\u001b[0m\u001b[0;34m.\u001b[0m\u001b[0m_fit\u001b[0m\u001b[0;34m(\u001b[0m\u001b[0mX\u001b[0m\u001b[0;34m)\u001b[0m\u001b[0;34m\u001b[0m\u001b[0m\n\u001b[0m\u001b[1;32m    345\u001b[0m         \u001b[0mU\u001b[0m \u001b[0;34m=\u001b[0m \u001b[0mU\u001b[0m\u001b[0;34m[\u001b[0m\u001b[0;34m:\u001b[0m\u001b[0;34m,\u001b[0m \u001b[0;34m:\u001b[0m\u001b[0mself\u001b[0m\u001b[0;34m.\u001b[0m\u001b[0mn_components_\u001b[0m\u001b[0;34m]\u001b[0m\u001b[0;34m\u001b[0m\u001b[0m\n\u001b[1;32m    346\u001b[0m \u001b[0;34m\u001b[0m\u001b[0m\n",
      "\u001b[0;32m/home/marce/TeachJob/Astrometria/pyramid/lib/python2.7/site-packages/sklearn/decomposition/pca.pyc\u001b[0m in \u001b[0;36m_fit\u001b[0;34m(self, X)\u001b[0m\n\u001b[1;32m    364\u001b[0m \u001b[0;34m\u001b[0m\u001b[0m\n\u001b[1;32m    365\u001b[0m         X = check_array(X, dtype=[np.float64, np.float32], ensure_2d=True,\n\u001b[0;32m--> 366\u001b[0;31m                         copy=self.copy)\n\u001b[0m\u001b[1;32m    367\u001b[0m \u001b[0;34m\u001b[0m\u001b[0m\n\u001b[1;32m    368\u001b[0m         \u001b[0;31m# Handle n_components==None\u001b[0m\u001b[0;34m\u001b[0m\u001b[0;34m\u001b[0m\u001b[0m\n",
      "\u001b[0;32m/home/marce/TeachJob/Astrometria/pyramid/lib/python2.7/site-packages/sklearn/utils/validation.pyc\u001b[0m in \u001b[0;36mcheck_array\u001b[0;34m(array, accept_sparse, dtype, order, copy, force_all_finite, ensure_2d, allow_nd, ensure_min_samples, ensure_min_features, warn_on_dtype, estimator)\u001b[0m\n\u001b[1;32m    408\u001b[0m                     \u001b[0;34m\"Reshape your data either using array.reshape(-1, 1) if \"\u001b[0m\u001b[0;34m\u001b[0m\u001b[0m\n\u001b[1;32m    409\u001b[0m                     \u001b[0;34m\"your data has a single feature or array.reshape(1, -1) \"\u001b[0m\u001b[0;34m\u001b[0m\u001b[0m\n\u001b[0;32m--> 410\u001b[0;31m                     \"if it contains a single sample.\".format(array))\n\u001b[0m\u001b[1;32m    411\u001b[0m             \u001b[0marray\u001b[0m \u001b[0;34m=\u001b[0m \u001b[0mnp\u001b[0m\u001b[0;34m.\u001b[0m\u001b[0matleast_2d\u001b[0m\u001b[0;34m(\u001b[0m\u001b[0marray\u001b[0m\u001b[0;34m)\u001b[0m\u001b[0;34m\u001b[0m\u001b[0m\n\u001b[1;32m    412\u001b[0m             \u001b[0;31m# To ensure that array flags are maintained\u001b[0m\u001b[0;34m\u001b[0m\u001b[0;34m\u001b[0m\u001b[0m\n",
      "\u001b[0;31mValueError\u001b[0m: Expected 2D array, got 1D array instead:\narray=[ -3.     8.69  -4.76   1.42   4.4    0.19   1.52  -5.08  -0.25   3.8\n   0.83  -5.77   1.66   4.1    2.22  -8.27   6.07   0.64   3.23   2.32\n   5.27  -4.6   -6.38  -4.27   0.91   4.06   0.99  -5.65  -1.51  -1.78\n   0.74  -0.38  -3.09  -2.55   1.15  -1.91   1.59  -2.77  -0.21  -2.61\n   1.6    0.01   1.3    4.02   1.39  -2.96  -2.54   2.97   0.6   -2.82\n   3.71  -3.69  -2.94  -2.48   2.82   6.25  -3.99   4.57  -4.23   1.09\n  -1.76   5.57  -2.26   1.27   1.78   2.82  -1.46   4.62  -1.83   1.39\n  -2.67   2.96   0.94  -3.59  -1.16   7.26  -6.23  -6.6    0.83  -3.32\n   3.6   -0.91   7.71  -2.71   1.91  -2.27  -3.03  -2.6    4.44  -1.75\n   0.92   2.1   -0.93  -1.38  -1.51  -0.73   3.62  -2.8   -0.86   4.22\n  -4.57   5.77  -0.19  -5.88   2.24   0.55  -0.11  -3.74   0.38   0.56\n   4.28  -0.05  -1.92   0.33  -4.88  -3.76  -4.33   2.04   1.88   0.48\n  -3.07   2.14   2.97   3.56   3.96   7.2    0.2   -3.34  -6.21   5.38\n  -0.22   4.18   0.8    1.89   1.35  -4.05   0.89  -0.67   2.86   1.13\n   5.29  -0.92   1.93  -1.32  -2.41   6.67   2.67  -2.45  -1.34  -5.77\n   1.5    3.3   -4.05   3.28  -4.25  -0.2   -4.01   0.49  -2.91  -4.21\n   1.01  -0.59   1.16   1.02   2.48   1.04   2.26   8.3    3.35   0.7\n   1.82   3.25   4.66   1.12  -0.07  -3.83   0.86  -0.82  -1.71   4.16\n   0.01   4.36  -5.42  -1.7   -0.87   5.67  -0.52   0.61  -2.03   1.67\n  -2.49  -0.7   -0.92  -2.09   1.38   4.68   1.64  -4.38   0.45   1.72\n  -2.32  -4.14   1.29  -3.85   3.81   6.17   1.38  -1.61   2.78   3.48\n  -0.41   0.65  -0.62  -4.4    0.03   2.19  -7.82   4.48  -3.02   0.57\n  -2.12   4.5   -0.21   5.14   0.06   0.14  -1.38   4.4    6.06  -0.37\n   2.17  -4.25   3.99  -4.03  -4.74  -0.31   1.97   2.34  -0.97  -1.29\n  -6.86   1.19   0.71  -3.7    3.06  -3.36  -5.69   0.46  -4.8    0.13\n   4.18   0.37   5.44 -10.8   -3.34   0.55  -3.85   6.57  -1.51  -1.06\n  -1.07  -3.93   3.12  -0.44  -2.76  -1.98  -7.98  -2.09   5.25   1.4\n   3.69   0.6    3.57   2.43  -2.55  -0.7   -0.9   -8.77  -1.65  -0.11\n  -3.52   4.66  -3.79  -3.78  -1.47  -1.44  -1.51   0.37  -4.64   5.59\n   3.64  -3.1    2.81  -8.98  -0.4    1.     5.94  -1.83   2.19   1.93].\nReshape your data either using array.reshape(-1, 1) if your data has a single feature or array.reshape(1, -1) if it contains a single sample."
     ]
    }
   ],
   "source": [
    "pca = decomposition.PCA()\n",
    "XTrans2 = pca.fit_transform(X)\n",
    "\n",
    "print XTrans2"
   ]
  },
  {
   "cell_type": "markdown",
   "metadata": {},
   "source": [
    "The remaining part of this notebook, is another example of using PCA for dimensionality reduction:"
   ]
  },
  {
   "cell_type": "code",
   "execution_count": null,
   "metadata": {},
   "outputs": [],
   "source": [
    "M = np.array([[2.5, 2.4],\n",
    "           [0.5, 0.7],\n",
    "           [2.2, 2.9],\n",
    "           [1.9, 2.2],\n",
    "           [3.1, 3.0],\n",
    "           [2.3, 2.7],\n",
    "           [2, 1.6],\n",
    "           [1, 1.1],\n",
    "           [1.5, 1.6],\n",
    "           [1.1, 0.9]])\n",
    "\n",
    "meanM = np.mean(M, axis=0)\n",
    "MC = M - meanM             # MC is the zero-mean (centered) version of X\n",
    "CovM = np.cov(MC, rowvar=0)    # CovM is the covarianvce matrix of M\n",
    "print \"Zero Mean Matrix:\\n\", MC,\"\\n\"\n",
    "print \"Covariance Matrix:\\n\", CovM,\"\\n\""
   ]
  },
  {
   "cell_type": "code",
   "execution_count": null,
   "metadata": {},
   "outputs": [],
   "source": [
    "eigVals, eigVecs = la.eig(CovM)\n",
    "\n",
    "print \"Eigenvalues:\\n\", eigVals,\"\\n\"\n",
    "print \"Eigenvectors:\\n\", eigVecs,\"\\n\""
   ]
  },
  {
   "cell_type": "code",
   "execution_count": null,
   "metadata": {},
   "outputs": [],
   "source": [
    "newFeatures = eigVecs[:,1].T\n",
    "MTrans = np.dot(newFeatures, MC.T)\n",
    "\n",
    "print np.mat(MTrans).T"
   ]
  },
  {
   "cell_type": "code",
   "execution_count": null,
   "metadata": {},
   "outputs": [],
   "source": [
    "pca2 = decomposition.PCA(n_components=1)\n",
    "MTrans2 = pca2.fit_transform(M)\n",
    "print MTrans2"
   ]
  },
  {
   "cell_type": "code",
   "execution_count": null,
   "metadata": {
    "collapsed": true
   },
   "outputs": [],
   "source": []
  },
  {
   "cell_type": "code",
   "execution_count": null,
   "metadata": {
    "collapsed": true
   },
   "outputs": [],
   "source": []
  }
 ],
 "metadata": {
  "kernelspec": {
   "display_name": "Python 2",
   "language": "python",
   "name": "python2"
  },
  "language_info": {
   "codemirror_mode": {
    "name": "ipython",
    "version": 2
   },
   "file_extension": ".py",
   "mimetype": "text/x-python",
   "name": "python",
   "nbconvert_exporter": "python",
   "pygments_lexer": "ipython2",
   "version": "2.7.12"
  }
 },
 "nbformat": 4,
 "nbformat_minor": 1
}
