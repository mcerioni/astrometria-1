{
 "cells": [
  {
   "cell_type": "markdown",
   "metadata": {},
   "source": [
    "Fuente:    \n",
    "https://machinelearningmastery.com/naive-bayes-classifier-scratch-python/"
   ]
  },
  {
   "cell_type": "markdown",
   "metadata": {},
   "source": [
    "Problema:\n",
    "    \n",
    "    Se tiene un conjunto de 768 datos de pacientes mujeres con diabetes.    Los datos incluyen ciertas mediciones numéricas de la condición de los pacientes,  tales como:\n",
    "    \n",
    "   + edad\n",
    "   + número de veces que estuvo embarazada\n",
    "   + presion sanguinea\n",
    "   + concentración de glucosa en sangre\n",
    "   + tension en la piel\n",
    "   + índice de masa corporal\n",
    "   + determinación independiente de la presencia de la enfermedad \n",
    "    \n",
    "La ultima columna vale 0, 1:\n",
    "\n",
    "+ 0: no desarrollo la enfermedad\n",
    "+ 1: si desarrollo la enfermedad]\n",
    "    \n",
    "Se puede estimar a partir de esta muestra cuál es la probabilidad de que una persona con (sin) diabetes tenga ciertos valores de los indicadores.\n",
    "\n",
    "Ahora, si medimos los indicadores, cuál es la probabilidad de que tenga diabetes?\n",
    "\n"
   ]
  },
  {
   "cell_type": "code",
   "execution_count": 1,
   "metadata": {},
   "outputs": [],
   "source": [
    "import csv\n",
    "import random\n",
    "import math\n",
    "from matplotlib import pyplot as plt\n",
    "import numpy as np"
   ]
  },
  {
   "cell_type": "markdown",
   "metadata": {},
   "source": [
    "## Funciones"
   ]
  },
  {
   "cell_type": "code",
   "execution_count": 2,
   "metadata": {},
   "outputs": [],
   "source": [
    "# Lector de archivos CSV\n",
    "def loadCsv(filename):\n",
    "    lines = csv.reader(open(filename, \"rb\"))\n",
    "    dataset = list(lines)\n",
    "    for i in range(len(dataset)):\n",
    "        dataset[i] = [float(x) for x in dataset[i]]\n",
    "    return dataset\n",
    "\n",
    "# Construir la particion de la muestra en una parte de entrenamiento y una de control\n",
    "def splitDataset(dataset, splitRatio):\n",
    "    trainSize = int(len(dataset) * splitRatio)\n",
    "    trainSet = []\n",
    "    copy = list(dataset)\n",
    "    while len(trainSet) < trainSize:\n",
    "        index = random.randrange(len(copy))\n",
    "        trainSet.append(copy.pop(index))\n",
    "    return [trainSet, copy]"
   ]
  },
  {
   "cell_type": "code",
   "execution_count": 3,
   "metadata": {},
   "outputs": [],
   "source": [
    "def separateByClass(dataset):\n",
    "    separated = {}\n",
    "    for i in range(len(dataset)):\n",
    "        vector = dataset[i]\n",
    "        if (vector[-1] not in separated):\n",
    "            separated[vector[-1]] = []\n",
    "        separated[vector[-1]].append(vector)\n",
    "    return separated"
   ]
  },
  {
   "cell_type": "code",
   "execution_count": 4,
   "metadata": {},
   "outputs": [],
   "source": [
    "def mean(numbers):\n",
    "    return sum(numbers)/float(len(numbers))\n",
    "\n",
    "def stdev(numbers):\n",
    "    avg = mean(numbers)\n",
    "    variance = sum([pow(x-avg,2) for x in numbers])/float(len(numbers)-1)\n",
    "    return math.sqrt(variance)\n",
    "\n",
    "def summarize(dataset):\n",
    "    summaries = [(mean(attribute), stdev(attribute)) for attribute in zip(*dataset)]\n",
    "    del summaries[-1]\n",
    "    return summaries"
   ]
  },
  {
   "cell_type": "code",
   "execution_count": 5,
   "metadata": {},
   "outputs": [],
   "source": [
    "def summarizeByClass(dataset):\n",
    "    separated = separateByClass(dataset)\n",
    "    summaries = {}\n",
    "    for classValue, instances in separated.iteritems():\n",
    "        summaries[classValue] = summarize(instances)\n",
    "    return summaries"
   ]
  },
  {
   "cell_type": "code",
   "execution_count": 6,
   "metadata": {},
   "outputs": [],
   "source": [
    "def calculateProbability(x, mean, stdev):\n",
    "    exponent = math.exp(-(math.pow(x-mean,2)/(2*math.pow(stdev,2))))\n",
    "    return (1 / (math.sqrt(2*math.pi) * stdev)) * exponent\n",
    "\n",
    "def calculateClassProbabilities(summaries, inputVector):\n",
    "    probabilities = {}\n",
    "    for classValue, classSummaries in summaries.iteritems():\n",
    "        probabilities[classValue] = 1\n",
    "        for i in range(len(classSummaries)):\n",
    "            mean, stdev = classSummaries[i]\n",
    "            x = inputVector[i]\n",
    "            probabilities[classValue] *= calculateProbability(x, mean, stdev)\n",
    "    return probabilities\n",
    "\n",
    "def predict(summaries, inputVector):\n",
    "    probabilities = calculateClassProbabilities(summaries, inputVector)\n",
    "    bestLabel, bestProb = None, -1\n",
    "    for classValue, probability in probabilities.iteritems():\n",
    "        if bestLabel is None or probability > bestProb:\n",
    "            bestProb = probability\n",
    "            bestLabel = classValue\n",
    "    return bestLabel\n",
    "\n",
    "def getPredictions(summaries, testSet):\n",
    "    predictions = []\n",
    "    for i in range(len(testSet)):\n",
    "        result = predict(summaries, testSet[i])\n",
    "        predictions.append(result)\n",
    "    return predictions\n",
    "\n",
    "def getAccuracy(testSet, predictions):\n",
    "    correct = 0\n",
    "    for x in range(len(testSet)):\n",
    "        if testSet[x][-1] == predictions[x]:\n",
    "            correct += 1\n",
    "    return (correct/float(len(testSet))) * 100.0"
   ]
  },
  {
   "cell_type": "markdown",
   "metadata": {},
   "source": [
    "# Ahora corremos el algoritmo completo de Naive Bayes"
   ]
  },
  {
   "cell_type": "markdown",
   "metadata": {},
   "source": [
    "#### La funcion splitDataset sirve para separar la muestra en dos partes, una de entrenamiento y una de validacion"
   ]
  },
  {
   "cell_type": "code",
   "execution_count": 7,
   "metadata": {},
   "outputs": [],
   "source": [
    "# Leer el archivo\n",
    "dataset = loadCsv('pima-indians-diabetes.csv')\n",
    "# Separar la muestra en dos partes:\n",
    "splitRatio = 0.4\n",
    "trainingSet, testSet = splitDataset(dataset, splitRatio)"
   ]
  },
  {
   "cell_type": "markdown",
   "metadata": {},
   "source": [
    "## Visualizar los datos"
   ]
  },
  {
   "cell_type": "code",
   "execution_count": 8,
   "metadata": {},
   "outputs": [
    {
     "data": {
      "text/plain": [
       "9"
      ]
     },
     "execution_count": 8,
     "metadata": {},
     "output_type": "execute_result"
    }
   ],
   "source": [
    "len(dataset[0])"
   ]
  },
  {
   "cell_type": "code",
   "execution_count": 9,
   "metadata": {},
   "outputs": [],
   "source": [
    "import csv\n",
    "D = csv.reader('pima-indians-diabetes.csv')\n",
    "\n",
    "import pandas\n",
    "column_names = ['npreg','glucoseConc','dbp','tt','si','bmi','dpf','age','class']\n",
    "D = pandas.read_csv('pima-indians-diabetes.csv', header = None, names = column_names)"
   ]
  },
  {
   "cell_type": "code",
   "execution_count": 10,
   "metadata": {},
   "outputs": [
    {
     "data": {
      "image/png": "[encoded data removed]",
      "text/plain": [
       "<matplotlib.figure.Figure at 0x7ff9ec1a1950>"
      ]
     },
     "metadata": {},
     "output_type": "display_data"
    }
   ],
   "source": [
    "f, xarr = plt.subplots(3, 3)\n",
    "f.set_figheight(12)\n",
    "f.set_figwidth(12)\n",
    "\n",
    "xarr[0,0].hist(D['npreg'])\n",
    "xarr[0,0].set_xlabel('npreg')\n",
    "\n",
    "xarr[0,1].hist(D['glucoseConc'])\n",
    "xarr[0,1].set_xlabel('glucoseConc')\n",
    "\n",
    "xarr[0,2].hist(D['dbp'])\n",
    "xarr[0,2].set_xlabel('dbp')\n",
    "\n",
    "xarr[1,0].hist(D['tt'])\n",
    "xarr[1,0].set_xlabel('tt')\n",
    "\n",
    "xarr[1,1].hist(D['si'])\n",
    "xarr[1,1].set_xlabel('si')\n",
    "\n",
    "xarr[1,2].hist(D['bmi'])\n",
    "xarr[1,2].set_xlabel('bmi')\n",
    "\n",
    "xarr[2,0].hist(D['dpf'])\n",
    "xarr[2,0].set_xlabel('dpf')\n",
    "\n",
    "xarr[2,1].hist(D['age'])\n",
    "xarr[2,1].set_xlabel('age')\n",
    "\n",
    "xarr[2,2].hist(D['class'])\n",
    "xarr[2,2].set_xlabel('class')\n",
    "\n",
    "plt.show()"
   ]
  },
  {
   "cell_type": "markdown",
   "metadata": {},
   "source": [
    "### Veamos ahora si hay diferencias entre las dos clases"
   ]
  },
  {
   "cell_type": "code",
   "execution_count": 11,
   "metadata": {},
   "outputs": [],
   "source": [
    "filter = D['class']==0\n",
    "D1 = D[filter]\n",
    "D2 = D[-filter]"
   ]
  },
  {
   "cell_type": "code",
   "execution_count": 12,
   "metadata": {},
   "outputs": [
    {
     "data": {
      "image/png": "[encoded data removed]",
      "text/plain": [
       "<matplotlib.figure.Figure at 0x7ff9eb999e10>"
      ]
     },
     "metadata": {},
     "output_type": "display_data"
    }
   ],
   "source": [
    "f, xarr = plt.subplots(3, 3)\n",
    "f.set_figheight(12)\n",
    "f.set_figwidth(12)\n",
    "nbins = 30\n",
    "\n",
    "a = column_names[0]\n",
    "X = D1[a]\n",
    "Y = D2[a]\n",
    "Z = D[a]\n",
    "bins = np.linspace(0, 10, 11)\n",
    "xarr[0,0].hist(X, bins, alpha=0.5)\n",
    "xarr[0,0].hist(Y, bins, alpha=0.5)\n",
    "xarr[0,0].set_xlabel(a)\n",
    "\n",
    "a = column_names[1]\n",
    "X = D1[a]\n",
    "Y = D2[a]\n",
    "Z = D[a]\n",
    "bins = np.linspace(min(Z), max(Z), nbins)\n",
    "xarr[0,1].hist(X, bins, alpha=0.5)\n",
    "xarr[0,1].hist(Y, bins, alpha=0.5)\n",
    "xarr[0,1].set_xlabel(a)\n",
    "\n",
    "a = column_names[2]\n",
    "X = D1[a]\n",
    "Y = D2[a]\n",
    "Z = D[a]\n",
    "bins = np.linspace(min(Z), max(Z), nbins)\n",
    "xarr[0,2].hist(X, bins, alpha=0.5)\n",
    "xarr[0,2].hist(Y, bins, alpha=0.5)\n",
    "xarr[0,2].set_xlabel(a)\n",
    "\n",
    "a = column_names[3]\n",
    "X = D1[a]\n",
    "Y = D2[a]\n",
    "Z = D[a]\n",
    "bins = np.linspace(min(Z), max(Z), nbins)\n",
    "xarr[1,0].hist(X, bins, alpha=0.5)\n",
    "xarr[1,0].hist(Y, bins, alpha=0.5)\n",
    "xarr[1,0].set_xlabel(a)\n",
    "\n",
    "a = column_names[4]\n",
    "X = D1[a]\n",
    "Y = D2[a]\n",
    "Z = D[a]\n",
    "bins = np.linspace(min(Z), max(Z), nbins)\n",
    "xarr[1,1].hist(X, bins, alpha=0.5)\n",
    "xarr[1,1].hist(Y, bins, alpha=0.5)\n",
    "xarr[1,1].set_xlabel(a)\n",
    "\n",
    "a = column_names[5]\n",
    "X = D1[a]\n",
    "Y = D2[a]\n",
    "Z = D[a]\n",
    "bins = np.linspace(min(Z), max(Z), nbins)\n",
    "xarr[1,2].hist(X, bins, alpha=0.5)\n",
    "xarr[1,2].hist(Y, bins, alpha=0.5)\n",
    "xarr[1,2].set_xlabel(a)\n",
    "\n",
    "a = column_names[6]\n",
    "X = D1[a]\n",
    "Y = D2[a]\n",
    "Z = D[a]\n",
    "bins = np.linspace(min(Z), max(Z), nbins)\n",
    "xarr[2,0].hist(X, bins, alpha=0.5)\n",
    "xarr[2,0].hist(Y, bins, alpha=0.5)\n",
    "xarr[2,0].set_xlabel(a)\n",
    "\n",
    "a = column_names[7]\n",
    "X = D1[a]\n",
    "Y = D2[a]\n",
    "Z = D[a]\n",
    "bins = np.linspace(min(Z), max(Z), nbins)\n",
    "xarr[2,1].hist(X, bins, alpha=0.5)\n",
    "xarr[2,1].hist(Y, bins, alpha=0.5)\n",
    "xarr[2,1].set_xlabel(a)\n",
    "\n",
    "a = column_names[8]\n",
    "X = D1[a]\n",
    "Y = D2[a]\n",
    "Z = D[a]\n",
    "bins = np.linspace(min(Z), max(Z), nbins)\n",
    "xarr[2,2].hist(X, bins, alpha=0.5)\n",
    "xarr[2,2].hist(Y, bins, alpha=0.5)\n",
    "xarr[2,2].set_xlabel(a)\n",
    "\n",
    "plt.show()"
   ]
  },
  {
   "cell_type": "code",
   "execution_count": 13,
   "metadata": {},
   "outputs": [],
   "source": [
    "# separamos a todos los datos segun su clase\n",
    "separated = separateByClass(dataset)"
   ]
  },
  {
   "cell_type": "code",
   "execution_count": 14,
   "metadata": {},
   "outputs": [
    {
     "name": "stdout",
     "output_type": "stream",
     "text": [
      "Separamos la muestra origial de 768 instancias en 307 de entrenamiento y 461 de validacion.\n"
     ]
    }
   ],
   "source": [
    "print('Separamos la muestra origial de {0} instancias en {1} de entrenamiento y {2} de validacion.').format(len(dataset), len(trainingSet), len(testSet))"
   ]
  },
  {
   "cell_type": "markdown",
   "metadata": {},
   "source": [
    "### Ahora calculamos los estimadores de la media y la varianza para cada uno de los atributos"
   ]
  },
  {
   "cell_type": "code",
   "execution_count": 14,
   "metadata": {},
   "outputs": [],
   "source": [
    "summaries = summarizeByClass(trainingSet)"
   ]
  },
  {
   "cell_type": "code",
   "execution_count": 15,
   "metadata": {},
   "outputs": [],
   "source": [
    "summarizeByClass?"
   ]
  },
  {
   "cell_type": "code",
   "execution_count": 16,
   "metadata": {},
   "outputs": [
    {
     "data": {
      "text/plain": [
       "[(3.122448979591837, 2.761513171683881),\n",
       " (109.81122448979592, 25.228190917195665),\n",
       " (67.53571428571429, 19.107892046521993),\n",
       " (20.107142857142858, 14.52861897190402),\n",
       " (66.79591836734694, 94.28091784891754),\n",
       " (30.178571428571427, 7.943237730360686),\n",
       " (0.42236734693877526, 0.31252442407955666),\n",
       " (31.790816326530614, 12.887366795429436)]"
      ]
     },
     "execution_count": 16,
     "metadata": {},
     "output_type": "execute_result"
    }
   ],
   "source": [
    "summaries[0]"
   ]
  },
  {
   "cell_type": "code",
   "execution_count": 17,
   "metadata": {},
   "outputs": [],
   "source": [
    "predictions = getPredictions(summaries, testSet)"
   ]
  },
  {
   "cell_type": "code",
   "execution_count": 19,
   "metadata": {},
   "outputs": [
    {
     "name": "stdout",
     "output_type": "stream",
     "text": [
      "Accuracy: 73.1019522777%\n"
     ]
    }
   ],
   "source": [
    "accuracy = getAccuracy(testSet, predictions)\n",
    "print('Accuracy: {0}%').format(accuracy)"
   ]
  },
  {
   "cell_type": "code",
   "execution_count": null,
   "metadata": {
    "collapsed": true
   },
   "outputs": [],
   "source": []
  }
 ],
 "metadata": {
  "kernelspec": {
   "display_name": "Python 2",
   "language": "python",
   "name": "python2"
  },
  "language_info": {
   "codemirror_mode": {
    "name": "ipython",
    "version": 2
   },
   "file_extension": ".py",
   "mimetype": "text/x-python",
   "name": "python",
   "nbconvert_exporter": "python",
   "pygments_lexer": "ipython2",
   "version": "2.7.6"
  }
 },
 "nbformat": 4,
 "nbformat_minor": 1
}
