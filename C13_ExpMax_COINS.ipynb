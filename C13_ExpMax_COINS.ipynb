{
 "cells": [
  {
   "cell_type": "markdown",
   "metadata": {},
   "source": [
    "Notebook basado en el artículo:\n",
    "What is the expectation maximization algorithm?, by Chuong B Do & Serafim Batzoglou\n",
    "http://ai.stanford.edu/~chuongdo/papers/em_tutorial.pdf"
   ]
  },
  {
   "cell_type": "markdown",
   "metadata": {},
   "source": [
    "Problema:\n",
    "    \n",
    "    Se tienen dos monedas con sesgos desconocidos.  Es decir, la probabilidad de que salga cara NO es 1/2, y además es diferente para cada una.  Se busca determinar los valores de esas probabilidades. \n",
    "    \n",
    "    Para eso se realiza el siguiente experimento:\n",
    "    \n",
    "    1. Elegir una moneda al azar\n",
    "    2. sortear esa moneda 10 veces\n",
    "    3. repetir (1.) 5 veces\n",
    "    \n",
    "Al final se tienen en total 50 sorteos de las monedas."
   ]
  },
  {
   "cell_type": "code",
   "execution_count": 6,
   "metadata": {},
   "outputs": [],
   "source": [
    "import numpy as np\n",
    "from scipy import stats\n",
    "import matplotlib.pyplot as plt\n",
    "import seaborn as sns\n",
    "import random\n",
    "%matplotlib inline"
   ]
  },
  {
   "cell_type": "markdown",
   "metadata": {},
   "source": [
    "Definir una funcion que muestre la distribucion binomial (muchos resultados de simular una moneda)"
   ]
  },
  {
   "cell_type": "code",
   "execution_count": 73,
   "metadata": {},
   "outputs": [],
   "source": [
    "def plot_binomial(p=0.5, n=10):\n",
    "    a=range(n+1)\n",
    "    fig, ax = plt.subplots(figsize=(6,4))\n",
    "    y = [0]*(n+1)\n",
    "    for i in a:\n",
    "        y[i] =  stats.binom.pmf(i, n, p)\n",
    "    ax.bar(a,y,label=\"$p = %.1f$\" % p)\n",
    "    ax.set_ylabel('FMP del nro. de caras')\n",
    "    ax.set_xlabel('$k$')\n",
    "    ax.set_ylim((0,0.5))\n",
    "    ax.set_xlim((-1,n+1))\n",
    "    ax.legend()\n",
    "    return fig"
   ]
  },
  {
   "cell_type": "markdown",
   "metadata": {},
   "source": [
    "Mostrar la distribucion Binomial"
   ]
  },
  {
   "cell_type": "code",
   "execution_count": 75,
   "metadata": {},
   "outputs": [
    {
     "data": {
      "image/png": "[encoded data removed]",
      "text/plain": [
       "<matplotlib.figure.Figure at 0x7f8f93513310>"
      ]
     },
     "metadata": {},
     "output_type": "display_data"
    }
   ],
   "source": [
    "f = plot_binomial(0.2)"
   ]
  },
  {
   "cell_type": "markdown",
   "metadata": {},
   "source": [
    "## Simular un experimento:"
   ]
  },
  {
   "cell_type": "code",
   "execution_count": 76,
   "metadata": {},
   "outputs": [],
   "source": [
    "Nexp = 5   # numero de experimentos (monedas)\n",
    "Nsor = 10  # numero de veces que tiro la moneda en cada experimento\n",
    "pA = 0.4   # probabilidad de que salga cara en la moneda A\n",
    "pB = 0.6   # probabilidad de que salga cara en la moneda B\n",
    "pM = 0.5   # probabiidad de elegir la moneda A\n",
    "obs = np.empty([Nexp, Nsor], dtype=bool)"
   ]
  },
  {
   "cell_type": "code",
   "execution_count": 77,
   "metadata": {},
   "outputs": [],
   "source": [
    "def gen_bernoulli(p):\n",
    "    x = random.random()\n",
    "    if x<p:\n",
    "        r = True\n",
    "    else:\n",
    "        r = False\n",
    "    return(r)"
   ]
  },
  {
   "cell_type": "code",
   "execution_count": 78,
   "metadata": {},
   "outputs": [],
   "source": [
    "def monedas(emA):\n",
    "    As = np.array([\"A\"]*5)\n",
    "    Bs = np.array([\"B\"]*5)\n",
    "    T = As\n",
    "    T[emA] = As[emA]\n",
    "    T[~emA] = Bs[~emA]\n",
    "    return(T)"
   ]
  },
  {
   "cell_type": "code",
   "execution_count": 79,
   "metadata": {},
   "outputs": [],
   "source": [
    "def eP(emA, pA, pB):\n",
    "    As = np.array([\"A\"]*5)\n",
    "    Bs = np.array([\"B\"]*5)\n",
    "    T = As\n",
    "    T[emA] = As[emA]\n",
    "    T[~emA] = Bs[~emA]\n",
    "    return(T)"
   ]
  },
  {
   "cell_type": "markdown",
   "metadata": {},
   "source": [
    "Elegir monedas:"
   ]
  },
  {
   "cell_type": "code",
   "execution_count": 92,
   "metadata": {},
   "outputs": [
    {
     "name": "stdout",
     "output_type": "stream",
     "text": [
      "['A' 'A' 'B' 'B' 'A']\n"
     ]
    }
   ],
   "source": [
    "mA = np.array([gen_bernoulli(pM) for _ in range(Nexp)])\n",
    "T = monedas(mA)\n",
    "print(T)"
   ]
  },
  {
   "cell_type": "markdown",
   "metadata": {},
   "source": [
    "Tiradas de las monedas:"
   ]
  },
  {
   "cell_type": "code",
   "execution_count": 14,
   "metadata": {},
   "outputs": [],
   "source": [
    "Nexp = 5\n",
    "for i in range(Nexp):\n",
    "    \n",
    "    if(mA[i]):\n",
    "        p = pA\n",
    "    else:\n",
    "        p = pB\n",
    "        \n",
    "    obs[i] = [gen_bernoulli(0.5) for _ in range(Nsor)]"
   ]
  },
  {
   "cell_type": "markdown",
   "metadata": {},
   "source": [
    "------------------------------------>> Objetivo: estimar pA y pB <<----------------------------------------"
   ]
  },
  {
   "cell_type": "markdown",
   "metadata": {},
   "source": [
    "## Estimaciones de la probabilidad: Caso \"completo\""
   ]
  },
  {
   "cell_type": "markdown",
   "metadata": {},
   "source": [
    "![title](EM1.png)"
   ]
  },
  {
   "cell_type": "code",
   "execution_count": 15,
   "metadata": {},
   "outputs": [
    {
     "name": "stdout",
     "output_type": "stream",
     "text": [
      "(0.4, 0.475, 0.6, 0.8)\n"
     ]
    }
   ],
   "source": [
    "fA = 1.0 * np.sum(obs[mA]) / np.size(obs[mA])\n",
    "fB = 1.0 * np.sum(obs[~mA]) / np.size(obs[~mA])\n",
    "print(pA, fA, pB, fB)"
   ]
  },
  {
   "cell_type": "code",
   "execution_count": 16,
   "metadata": {},
   "outputs": [
    {
     "data": {
      "image/png": "[encoded data removed]",
      "text/plain": [
       "<matplotlib.figure.Figure at 0x7f8f94012ad0>"
      ]
     },
     "metadata": {},
     "output_type": "display_data"
    }
   ],
   "source": [
    "fig, ax = plt.subplots(figsize=(6,6))\n",
    "plt.plot([0,1],[0,1],\"k-\")\n",
    "plt.plot([pA,pB],[fA,fB],\"o\")\n",
    "ax.set_xlabel('probabilidad verdadera')\n",
    "ax.set_ylabel('probabilidad estimada')\n",
    "ax.set_ylim((0,1))\n",
    "ax.set_xlim((0,1))\n",
    "ax.legend()"
   ]
  },
  {
   "cell_type": "markdown",
   "metadata": {},
   "source": [
    "## Estimaciones de la probabilidad: Caso \"incompleto\": \n",
    "## Aplicación del algoritmo de expectación-maximización"
   ]
  },
  {
   "cell_type": "markdown",
   "metadata": {},
   "source": [
    "#### paso 1: asumir valores para los parámetos pA y pB (desconocidos)"
   ]
  },
  {
   "cell_type": "code",
   "execution_count": 17,
   "metadata": {},
   "outputs": [],
   "source": [
    "epA = 0.6\n",
    "epB = 0.5"
   ]
  },
  {
   "cell_type": "markdown",
   "metadata": {},
   "source": [
    "#### paso 2: determinar para cada experimento cual de las monedas es la más probable"
   ]
  },
  {
   "cell_type": "code",
   "execution_count": 18,
   "metadata": {},
   "outputs": [
    {
     "name": "stdout",
     "output_type": "stream",
     "text": [
      "[False  True  True False  True False False  True False  True]\n",
      "(0.20065812480000034, 0.24609375000000025)\n"
     ]
    }
   ],
   "source": [
    "# Experimento 1:\n",
    "print(obs[0])\n",
    "Ncaras = np.sum(obs[0])\n",
    "L_A1 = stats.binom.pmf(Ncaras,Nsor,epA)\n",
    "L_B1 = stats.binom.pmf(Ncaras,Nsor,epB)\n",
    "print(L_A1, L_B1)"
   ]
  },
  {
   "cell_type": "code",
   "execution_count": 19,
   "metadata": {},
   "outputs": [
    {
     "name": "stdout",
     "output_type": "stream",
     "text": [
      "La moneda más probable es la B.  Valores: 0.2006581248 y 0.24609375\n",
      "La moneda más probable es la A.  Valores: 0.250822656 y 0.205078125\n",
      "La moneda más probable es la A.  Valores: 0.120932352 y 0.0439453125\n",
      "La moneda más probable es la B.  Valores: 0.042467328 y 0.1171875\n",
      "La moneda más probable es la B.  Valores: 0.2006581248 y 0.24609375\n"
     ]
    }
   ],
   "source": [
    "# para los 5 experimentos:\n",
    "emA = []\n",
    "for X in obs:\n",
    "    Ncaras = np.sum(X)\n",
    "    L_A = stats.binom.pmf(Ncaras,Nsor,epA)\n",
    "    L_B = stats.binom.pmf(Ncaras,Nsor,epB)\n",
    "    if(L_A>L_B): \n",
    "        S=\"A\"\n",
    "        emA.append(True)\n",
    "    else:\n",
    "        S=\"B\"\n",
    "        emA.append(False)\n",
    "    print('La moneda más probable es la {}.  Valores: {} y {}'.format(S, L_A, L_B))\n",
    "emA = np.array(emA)"
   ]
  },
  {
   "cell_type": "code",
   "execution_count": 20,
   "metadata": {},
   "outputs": [
    {
     "name": "stdout",
     "output_type": "stream",
     "text": [
      "[False  True  True False False]\n",
      "['B' 'A' 'A' 'B' 'B']\n"
     ]
    }
   ],
   "source": [
    "print(emA)\n",
    "print(monedas(emA))"
   ]
  },
  {
   "cell_type": "code",
   "execution_count": null,
   "metadata": {},
   "outputs": [],
   "source": []
  },
  {
   "cell_type": "markdown",
   "metadata": {},
   "source": [
    "#### paso 3: \n",
    "\n",
    "#### IDEA: _asumo_ estos valores para las variables latentes y estimo los parámetros usando _maximum likelihood_"
   ]
  },
  {
   "cell_type": "code",
   "execution_count": 21,
   "metadata": {},
   "outputs": [
    {
     "name": "stdout",
     "output_type": "stream",
     "text": [
      "(0.4, 0.7, 0.6, 0.43333333333333335)\n"
     ]
    }
   ],
   "source": [
    "# Lo mismo que para el caso completo, pero usando emA en lugar de mA:\n",
    "\n",
    "fA = 1.0 * np.sum(obs[emA]) / np.size(obs[emA])\n",
    "fB = 1.0 * np.sum(obs[~emA]) / np.size(obs[~emA])\n",
    "print(pA, fA, pB, fB)"
   ]
  },
  {
   "cell_type": "markdown",
   "metadata": {},
   "source": [
    "#### Repito lo mismo hasta convergencia:"
   ]
  },
  {
   "cell_type": "code",
   "execution_count": 22,
   "metadata": {},
   "outputs": [
    {
     "name": "stdout",
     "output_type": "stream",
     "text": [
      "(array([False,  True,  True, False, False], dtype=bool), 0.9, 0.1)\n",
      "(array([False,  True,  True, False, False], dtype=bool), 0.7, 0.43333333333333335)\n",
      "(array([False,  True,  True, False, False], dtype=bool), 0.7, 0.43333333333333335)\n",
      "(array([False,  True,  True, False, False], dtype=bool), 0.7, 0.43333333333333335)\n",
      "(array([False,  True,  True, False, False], dtype=bool), 0.7, 0.43333333333333335)\n",
      "(array([False,  True,  True, False, False], dtype=bool), 0.7, 0.43333333333333335)\n",
      "(array([False,  True,  True, False, False], dtype=bool), 0.7, 0.43333333333333335)\n",
      "(array([False,  True,  True, False, False], dtype=bool), 0.7, 0.43333333333333335)\n",
      "(array([False,  True,  True, False, False], dtype=bool), 0.7, 0.43333333333333335)\n",
      "(array([False,  True,  True, False, False], dtype=bool), 0.7, 0.43333333333333335)\n",
      "(array([False,  True,  True, False, False], dtype=bool), 0.7, 0.43333333333333335)\n"
     ]
    }
   ],
   "source": [
    "# estima inicial\n",
    "epA = 0.9\n",
    "epB = 0.1\n",
    "print(emA, epA, epB)\n",
    "\n",
    "for _ in range(10):\n",
    "    emA = []\n",
    "    for X in obs:\n",
    "        Ncaras = np.sum(X)\n",
    "        L_A = stats.binom.pmf(Ncaras,Nsor,epA)\n",
    "        L_B = stats.binom.pmf(Ncaras,Nsor,epB)\n",
    "        if(L_A>L_B): \n",
    "            emA.append(True)\n",
    "        else:\n",
    "            emA.append(False)\n",
    "    emA = np.array(emA)\n",
    "    \n",
    "    epA = 1.0 * np.sum(obs[emA]) / np.size(obs[emA])\n",
    "    epB = 1.0 * np.sum(obs[~emA]) / np.size(obs[~emA])\n",
    "    print(emA, epA, epB)"
   ]
  },
  {
   "cell_type": "markdown",
   "metadata": {},
   "source": [
    "#### EM: en lugar de elegir la moneda \"más probable\", tomo una probabilidad para cada moneda"
   ]
  },
  {
   "cell_type": "markdown",
   "metadata": {},
   "source": [
    "En la version anterior, asignamos \"probabilidades\" 0 y 1 a las monedas según cual era la más probable, es decir, asumimos la variable latente como conocida.   Ahora vamos a asignarle una probabilidad a cada moneda."
   ]
  },
  {
   "cell_type": "markdown",
   "metadata": {},
   "source": [
    "Para el experimento 1:"
   ]
  },
  {
   "cell_type": "code",
   "execution_count": 23,
   "metadata": {},
   "outputs": [],
   "source": [
    "obs = np.array([[1,0,0,0,1,1,0,1,0,1],\n",
    "                [1,1,1,1,0,1,1,1,1,1],\n",
    "                [1,0,1,1,1,1,1,0,1,1],\n",
    "                [1,0,1,0,0,0,1,1,0,0],\n",
    "                [0,1,1,1,0,1,1,1,0,1]])\n",
    "mA = np.array([False,True,True,False,True])\n",
    "epA = 0.6\n",
    "epB = 0.5"
   ]
  },
  {
   "cell_type": "code",
   "execution_count": 24,
   "metadata": {},
   "outputs": [
    {
     "name": "stdout",
     "output_type": "stream",
     "text": [
      "(0.20065812480000034, 0.24609375000000025, 0.4491489261009366, 0.5508510738990634)\n"
     ]
    }
   ],
   "source": [
    "Ncaras = np.sum(obs[0])\n",
    "\n",
    "L_A = stats.binom.pmf(Ncaras,Nsor,epA)\n",
    "L_B = stats.binom.pmf(Ncaras,Nsor,epB)\n",
    "\n",
    "# EXPECTACION\n",
    "\n",
    "mpA = L_A / (L_A + L_B)\n",
    "mpB = L_B / (L_A + L_B)\n",
    "\n",
    "print (L_A, L_B, mpA, mpB)"
   ]
  },
  {
   "cell_type": "markdown",
   "metadata": {},
   "source": [
    "El **modelo** ahora es la distribunción Binomial con los parámetros estimados **mpA** y **mpB**\n",
    "\n",
    "Ahora hacemos el paso de MAXIMIZACION"
   ]
  },
  {
   "cell_type": "code",
   "execution_count": 25,
   "metadata": {},
   "outputs": [
    {
     "name": "stdout",
     "output_type": "stream",
     "text": [
      "(2.2457446305046829, 2.2457446305046829, 2.7542553694953171, 2.7542553694953171)\n"
     ]
    }
   ],
   "source": [
    "eCA = Ncaras*mpA\n",
    "eXA = Ncaras*mpA\n",
    "eCB = Ncaras*mpB\n",
    "eXB = Ncaras*mpB\n",
    "\n",
    "print(eCA, eXA, eCB, eXB)"
   ]
  },
  {
   "cell_type": "markdown",
   "metadata": {},
   "source": [
    "Para los 5 experimentos:"
   ]
  },
  {
   "cell_type": "code",
   "execution_count": 26,
   "metadata": {},
   "outputs": [
    {
     "name": "stdout",
     "output_type": "stream",
     "text": [
      "(21.297481896347225, 8.5722466145301759, 11.702518103652775, 8.4277533854698223)\n"
     ]
    }
   ],
   "source": [
    "eCAT = []\n",
    "eXAT = []\n",
    "eCBT = []\n",
    "eXBT = []\n",
    "\n",
    "for X in obs:    \n",
    "    Ncaras = np.sum(X)\n",
    "    L_A = stats.binom.pmf(Ncaras,Nsor,epA)\n",
    "    L_B = stats.binom.pmf(Ncaras,Nsor,epB)\n",
    "    mpA = L_A / (L_A + L_B)\n",
    "    mpB = L_B / (L_A + L_B)\n",
    "    \n",
    "    eCA = Ncaras*mpA\n",
    "    eCAT.append(eCA)\n",
    "    \n",
    "    eXA = (Nsor-Ncaras)*mpA\n",
    "    eXAT.append(eXA)    \n",
    "    \n",
    "    eCB = Ncaras*mpB\n",
    "    eCBT.append(eCB)\n",
    "        \n",
    "    eXB = (Nsor-Ncaras)*mpB\n",
    "    eXBT.append(eXB)\n",
    "        \n",
    "\n",
    "print(np.sum(eCAT), np.sum(eXAT), np.sum(eCBT), np.sum(eXBT))\n",
    "    "
   ]
  },
  {
   "cell_type": "markdown",
   "metadata": {},
   "source": [
    "![title](EM2.png)"
   ]
  },
  {
   "cell_type": "code",
   "execution_count": 27,
   "metadata": {},
   "outputs": [
    {
     "name": "stdout",
     "output_type": "stream",
     "text": [
      "(0.71301223540051617, 0.58133930831366265)\n"
     ]
    }
   ],
   "source": [
    "epA = np.sum(eCAT) / (np.sum(eCAT) + np.sum(eXAT))\n",
    "epB = np.sum(eCBT) / (np.sum(eCBT) + np.sum(eXBT))\n",
    "\n",
    "print(epA, epB)"
   ]
  },
  {
   "cell_type": "markdown",
   "metadata": {},
   "source": [
    "## PASO 3: EM"
   ]
  },
  {
   "cell_type": "code",
   "execution_count": 51,
   "metadata": {},
   "outputs": [
    {
     "name": "stdout",
     "output_type": "stream",
     "text": [
      "(1, 0.43547472773052048, 0.75129177120371482)\n",
      "(2, 0.48616453320629616, 0.77777784741360745)\n",
      "(3, 0.50590914400327436, 0.78925890434278645)\n",
      "(4, 0.51395095005972469, 0.79383908143311033)\n",
      "(5, 0.51726049453626577, 0.79563679583843405)\n",
      "(6, 0.51862544580539138, 0.79633919319396484)\n",
      "(7, 0.51918842492325323, 0.79661332113732197)\n",
      "(8, 0.51942052894134505, 0.796720334905064)\n",
      "(9, 0.51951617242758052, 0.79676215000049622)\n",
      "(10, 0.51955556550567483, 0.79677850990336674)\n",
      "(11, 0.51957178336225929, 0.79678491990312705)\n",
      "(12, 0.519578457467469, 0.79678743528421725)\n",
      "(13, 0.51958120304732591, 0.79678842392312843)\n",
      "(14, 0.51958233214183869, 0.79678881311960137)\n",
      "(15, 0.51958279632998472, 0.79678896658141607)\n",
      "(16, 0.51958298711158324, 0.79678902718953792)\n",
      "(17, 0.51958306550285938, 0.79678905116439969)\n",
      "(18, 0.51958309770590982, 0.79678906066321276)\n",
      "(19, 0.51958311093203768, 0.79678906443251896)\n",
      "(20, 0.51958311636307164, 0.79678906593055132)\n"
     ]
    }
   ],
   "source": [
    "epA = 0.2\n",
    "epB = 0.8\n",
    "\n",
    "ipA = []\n",
    "ipB = []\n",
    "\n",
    "N_itera = 20\n",
    "for itera in range(N_itera):\n",
    "\n",
    "    eCAT = []\n",
    "    eXAT = []\n",
    "    eCBT = []\n",
    "    eXBT = []\n",
    "\n",
    "    for X in obs:\n",
    "               \n",
    "        Ncaras = np.sum(X)\n",
    "        L_A = stats.binom.pmf(Ncaras,Nsor,epA)\n",
    "        L_B = stats.binom.pmf(Ncaras,Nsor,epB)\n",
    "        mpA = L_A / (L_A + L_B)\n",
    "        mpB = L_B / (L_A + L_B)\n",
    "        \n",
    "        eCA = Ncaras*mpA\n",
    "        eCAT.append(eCA)\n",
    "        \n",
    "        eXA = (Nsor-Ncaras)*mpA\n",
    "        eXAT.append(eXA)    \n",
    "        \n",
    "        eCB = Ncaras*mpB\n",
    "        eCBT.append(eCB)\n",
    "            \n",
    "        eXB = (Nsor-Ncaras)*mpB\n",
    "        eXBT.append(eXB)\n",
    "        \n",
    "    epA = np.sum(eCAT) / (np.sum(eCAT) + np.sum(eXAT))\n",
    "    epB = np.sum(eCBT) / (np.sum(eCBT) + np.sum(eXBT))\n",
    "    \n",
    "    ipA.append(epA)\n",
    "    ipB.append(epB)\n",
    "    \n",
    "    print(itera+1, epA, epB)\n",
    "    "
   ]
  },
  {
   "cell_type": "code",
   "execution_count": 52,
   "metadata": {},
   "outputs": [
    {
     "data": {
      "text/plain": [
       "<matplotlib.legend.Legend at 0x7f8f936a2450>"
      ]
     },
     "execution_count": 52,
     "metadata": {},
     "output_type": "execute_result"
    },
    {
     "data": {
      "image/png": "[encoded data removed]",
      "text/plain": [
       "<matplotlib.figure.Figure at 0x7f8f9374f8d0>"
      ]
     },
     "metadata": {},
     "output_type": "display_data"
    }
   ],
   "source": [
    "x = range(N_itera)\n",
    "\n",
    "fig, ax = plt.subplots(figsize=(6,6))\n",
    "l1 = plt.plot(x, ipA,\"r-\", label=\"A\")\n",
    "l2 = plt.plot(x, ipB,\"b-\", label=\"B\")\n",
    "ax.axhline(y=pA, color='r', linestyle='--')\n",
    "ax.set_xlabel('numero de iteraciones')\n",
    "ax.axhline(y=pB, color='b', linestyle='--')\n",
    "ax.set_ylabel('probabilidad estimada')\n",
    "ax.set_ylim((0,1))\n",
    "ax.set_xlim((0,N_itera))\n",
    "ax.legend(labels=[\"p(A)\", \"p(B)\"])"
   ]
  },
  {
   "cell_type": "code",
   "execution_count": null,
   "metadata": {},
   "outputs": [],
   "source": []
  },
  {
   "cell_type": "code",
   "execution_count": null,
   "metadata": {
    "collapsed": true
   },
   "outputs": [],
   "source": []
  }
 ],
 "metadata": {
  "kernelspec": {
   "display_name": "Python 2",
   "language": "python",
   "name": "python2"
  },
  "language_info": {
   "codemirror_mode": {
    "name": "ipython",
    "version": 2
   },
   "file_extension": ".py",
   "mimetype": "text/x-python",
   "name": "python",
   "nbconvert_exporter": "python",
   "pygments_lexer": "ipython2",
   "version": "2.7.6"
  }
 },
 "nbformat": 4,
 "nbformat_minor": 1
}
