{
 "cells": [
  {
   "cell_type": "markdown",
   "metadata": {},
   "source": [
    "Notebook basado en el artículo:\n",
    "What is the expectation maximization algorithm?, by Chuong B Do & Serafim Batzoglou\n",
    "http://ai.stanford.edu/~chuongdo/papers/em_tutorial.pdf"
   ]
  },
  {
   "cell_type": "markdown",
   "metadata": {},
   "source": [
    "Problema:\n",
    "    \n",
    "    Se tienen dos monedas con sesgos desconocidos.  Es decir, la probabilidad de que salga cara NO es 1/2, y además es diferente para cada una.  Se busca determinar los valores de esas probabilidades. \n",
    "    \n",
    "    Para eso se realiza el siguiente experimento:\n",
    "    \n",
    "    1. Elegir una moneda al azar\n",
    "    2. sortear esa moneda 10 veces\n",
    "    3. repetir (1.) 5 veces\n",
    "    \n",
    "Al final se tienen en total 50 sorteos de las monedas."
   ]
  },
  {
   "cell_type": "code",
   "execution_count": 1,
   "metadata": {
    "collapsed": true
   },
   "outputs": [],
   "source": [
    "import numpy as np\n",
    "from scipy import stats\n",
    "import matplotlib.pyplot as plt\n",
    "import seaborn as sns\n",
    "import random\n",
    "%matplotlib inline"
   ]
  },
  {
   "cell_type": "markdown",
   "metadata": {},
   "source": [
    "Definir una funcion que muestre la distribucion binomial (muchos resultados de simular una moneda)"
   ]
  },
  {
   "cell_type": "code",
   "execution_count": 2,
   "metadata": {
    "collapsed": true
   },
   "outputs": [],
   "source": [
    "def plot_binomial(p=0.5, n=10):\n",
    "    a=range(n+1)\n",
    "    fig, ax = plt.subplots(figsize=(6,4))\n",
    "    y = [0]*(n+1)\n",
    "    for i in a:\n",
    "        y[i] =  stats.binom.pmf(i, n, p)\n",
    "    ax.bar(a,y,label=\"$p = %.1f$\" % p)\n",
    "    ax.set_ylabel('FMP del nro. de caras')\n",
    "    ax.set_xlabel('$k$')\n",
    "    ax.set_ylim((0,0.5))\n",
    "    ax.set_xlim((-1,n+1))\n",
    "    ax.legend()\n",
    "    return fig"
   ]
  },
  {
   "cell_type": "markdown",
   "metadata": {},
   "source": [
    "Mostrar la distribucion Binomial"
   ]
  },
  {
   "cell_type": "code",
   "execution_count": 3,
   "metadata": {},
   "outputs": [
    {
     "data": {
      "image/png": "[encoded data removed]",
      "text/plain": [
       "<matplotlib.figure.Figure at 0x7f0765349410>"
      ]
     },
     "metadata": {},
     "output_type": "display_data"
    }
   ],
   "source": [
    "f = plot_binomial(0.2)"
   ]
  },
  {
   "cell_type": "markdown",
   "metadata": {},
   "source": [
    "## Simular un experimento:"
   ]
  },
  {
   "cell_type": "code",
   "execution_count": 57,
   "metadata": {
    "collapsed": true
   },
   "outputs": [],
   "source": [
    "Nexp = 50   # numero de experimentos (monedas)\n",
    "Nsor = 300  # numero de veces que tiro la moneda en cada experimento\n",
    "pA = 0.3   # probabilidad de que salga cara en la moneda A\n",
    "pB = 0.7   # probabilidad de que salga cara en la moneda B\n",
    "pM = 0.5   # probabiidad de elegir la moneda A\n",
    "N_itera = 10 # cantidad de iteraciones en el metodo EM\n",
    "obs = np.empty([Nexp, Nsor], dtype=bool)"
   ]
  },
  {
   "cell_type": "code",
   "execution_count": 58,
   "metadata": {
    "collapsed": true
   },
   "outputs": [],
   "source": [
    "def gen_bernoulli(p):\n",
    "    x = random.random()\n",
    "    if x<p:\n",
    "        r = True\n",
    "    else:\n",
    "        r = False\n",
    "    return(r)"
   ]
  },
  {
   "cell_type": "code",
   "execution_count": 59,
   "metadata": {
    "collapsed": true
   },
   "outputs": [],
   "source": [
    "def monedas(emA,Nexp):\n",
    "    As = np.array([\"A\"]*Nexp)\n",
    "    Bs = np.array([\"B\"]*Nexp)\n",
    "    T = As\n",
    "    T[emA] = As[emA]\n",
    "    T[~emA] = Bs[~emA]\n",
    "    return(T)"
   ]
  },
  {
   "cell_type": "code",
   "execution_count": 60,
   "metadata": {
    "collapsed": true
   },
   "outputs": [],
   "source": [
    "def eP(emA, pA, pB, Nexp):\n",
    "    As = np.array([\"A\"]*Nexp)\n",
    "    Bs = np.array([\"B\"]*Nexp)\n",
    "    T = As\n",
    "    T[emA] = As[emA]\n",
    "    T[~emA] = Bs[~emA]\n",
    "    return(T)"
   ]
  },
  {
   "cell_type": "markdown",
   "metadata": {},
   "source": [
    "Elegir monedas:"
   ]
  },
  {
   "cell_type": "code",
   "execution_count": 61,
   "metadata": {},
   "outputs": [
    {
     "name": "stdout",
     "output_type": "stream",
     "text": [
      "[ True False False  True  True False  True  True  True False  True False\n",
      "  True  True  True False False  True  True False  True  True False False\n",
      "  True  True False False False  True False  True False  True  True  True\n",
      "  True False  True  True False  True  True False False False  True  True\n",
      "  True  True]\n",
      "['A' 'B' 'B' 'A' 'A' 'B' 'A' 'A' 'A' 'B' 'A' 'B' 'A' 'A' 'A' 'B' 'B' 'A'\n",
      " 'A' 'B' 'A' 'A' 'B' 'B' 'A' 'A' 'B' 'B' 'B' 'A' 'B' 'A' 'B' 'A' 'A' 'A'\n",
      " 'A' 'B' 'A' 'A' 'B' 'A' 'A' 'B' 'B' 'B' 'A' 'A' 'A' 'A']\n"
     ]
    }
   ],
   "source": [
    "mA = np.array([gen_bernoulli(pM) for _ in range(Nexp)])\n",
    "print mA\n",
    "T = monedas(mA, Nexp)\n",
    "print(T)"
   ]
  },
  {
   "cell_type": "markdown",
   "metadata": {},
   "source": [
    "Tiradas de las monedas:"
   ]
  },
  {
   "cell_type": "code",
   "execution_count": 62,
   "metadata": {
    "collapsed": true
   },
   "outputs": [],
   "source": [
    "for i in range(Nexp):\n",
    "    \n",
    "    if(mA[i]):\n",
    "        p = pA\n",
    "    else:\n",
    "        p = pB\n",
    "        \n",
    "    obs[i] = [gen_bernoulli(p) for _ in range(Nsor)]"
   ]
  },
  {
   "cell_type": "code",
   "execution_count": 63,
   "metadata": {},
   "outputs": [
    {
     "name": "stdout",
     "output_type": "stream",
     "text": [
      "[[False False False ..., False False  True]\n",
      " [ True  True False ..., False False  True]\n",
      " [ True  True  True ...,  True  True False]\n",
      " ..., \n",
      " [ True False  True ..., False False False]\n",
      " [False False False ..., False False False]\n",
      " [False False False ...,  True False False]]\n"
     ]
    }
   ],
   "source": [
    "print obs"
   ]
  },
  {
   "cell_type": "markdown",
   "metadata": {},
   "source": [
    "------------------------------------>> Objetivo: estimar pA y pB <<----------------------------------------"
   ]
  },
  {
   "cell_type": "markdown",
   "metadata": {},
   "source": [
    "## Estimaciones de la probabilidad: Caso \"completo\""
   ]
  },
  {
   "cell_type": "markdown",
   "metadata": {},
   "source": [
    "![title](EM1.png)"
   ]
  },
  {
   "cell_type": "code",
   "execution_count": 64,
   "metadata": {},
   "outputs": [
    {
     "name": "stdout",
     "output_type": "stream",
     "text": [
      "(0.3, 0.3051111111111111, 0.7, 0.6941666666666667)\n"
     ]
    }
   ],
   "source": [
    "fA = 1.0 * np.sum(obs[mA]) / np.size(obs[mA])\n",
    "fB = 1.0 * np.sum(obs[~mA]) / np.size(obs[~mA])\n",
    "print(pA, fA, pB, fB)"
   ]
  },
  {
   "cell_type": "code",
   "execution_count": 65,
   "metadata": {},
   "outputs": [
    {
     "name": "stderr",
     "output_type": "stream",
     "text": [
      "/home/marce/TeachJob/Astrometria/pyramid/lib/python2.7/site-packages/matplotlib/axes/_axes.py:545: UserWarning: No labelled objects found. Use label='...' kwarg on individual plots.\n",
      "  warnings.warn(\"No labelled objects found. \"\n"
     ]
    },
    {
     "data": {
      "image/png": "[encoded data removed]",
      "text/plain": [
       "<matplotlib.figure.Figure at 0x7f0762da2990>"
      ]
     },
     "metadata": {},
     "output_type": "display_data"
    }
   ],
   "source": [
    "fig, ax = plt.subplots(figsize=(6,6))\n",
    "plt.plot([0,1],[0,1],\"k-\")\n",
    "plt.plot([pA,pB],[fA,fB],\"o\")\n",
    "ax.set_xlabel('probabilidad verdadera')\n",
    "ax.set_ylabel('probabilidad estimada')\n",
    "ax.set_ylim((0,1))\n",
    "ax.set_xlim((0,1))\n",
    "ax.legend()"
   ]
  },
  {
   "cell_type": "markdown",
   "metadata": {},
   "source": [
    "### Estimaciones de la probabilidad: Caso \"incompleto\": \n",
    "#### Aplicación del algoritmo de expectación-maximización"
   ]
  },
  {
   "cell_type": "markdown",
   "metadata": {},
   "source": [
    "#### paso 1: asumir valores para los parámetos pA y pB (desconocidos)"
   ]
  },
  {
   "cell_type": "code",
   "execution_count": 66,
   "metadata": {
    "collapsed": true
   },
   "outputs": [],
   "source": [
    "epA = 0.6\n",
    "epB = 0.5"
   ]
  },
  {
   "cell_type": "markdown",
   "metadata": {},
   "source": [
    "#### paso 2: determinar para cada experimento cual de las monedas es la más probable"
   ]
  },
  {
   "cell_type": "code",
   "execution_count": 67,
   "metadata": {},
   "outputs": [
    {
     "name": "stdout",
     "output_type": "stream",
     "text": [
      "[False False False False  True  True False False  True False  True False\n",
      " False False  True False False  True  True False  True  True  True  True\n",
      " False  True  True  True False False False False False False  True  True\n",
      " False  True False False False False False False False False  True False\n",
      " False False False False False False False False False False False False\n",
      "  True  True False  True False  True False False False False False False\n",
      " False False False False False False False False False  True False  True\n",
      " False False False False False  True False  True False  True False False\n",
      " False False  True  True False False False False  True  True False False\n",
      " False False  True False False  True  True False False  True False False\n",
      " False  True False False  True False False  True False  True  True  True\n",
      " False False False False False False False  True False False False False\n",
      " False False False  True False False  True False False  True False False\n",
      " False  True False False  True False  True False False False False False\n",
      " False False False  True False False False False  True  True False False\n",
      " False False False False  True False  True False False False False False\n",
      "  True  True False False False False False False False  True False False\n",
      " False False False  True  True  True False  True  True  True False False\n",
      "  True False False False False False False False False False False False\n",
      "  True False False  True  True False  True  True  True  True False  True\n",
      "  True False False  True  True False False False False  True  True False\n",
      "  True False False  True False  True False False  True False False False\n",
      " False False False  True  True  True False False False  True False False\n",
      " False False False False  True False False  True False  True  True  True\n",
      " False False  True  True  True False False False False False False  True]\n",
      "(2.2536469255879678e-24, 1.120476331801087e-11)\n"
     ]
    }
   ],
   "source": [
    "# Experimento 1:\n",
    "print(obs[0])\n",
    "Ncaras = np.sum(obs[0])\n",
    "L_A1 = stats.binom.pmf(Ncaras,Nsor,epA)\n",
    "L_B1 = stats.binom.pmf(Ncaras,Nsor,epB)\n",
    "print(L_A1, L_B1)"
   ]
  },
  {
   "cell_type": "code",
   "execution_count": 68,
   "metadata": {},
   "outputs": [
    {
     "name": "stdout",
     "output_type": "stream",
     "text": [
      "La moneda más probable es la B.  Valores: 2.25364692559e-24 y 1.1204763318e-11\n",
      "La moneda más probable es la A.  Valores: 0.00113305643391 y 2.40286767666e-10\n",
      "La moneda más probable es la A.  Valores: 0.00489709993742 y 7.88630512907e-09\n",
      "La moneda más probable es la B.  Valores: 1.24835712294e-27 y 7.06973618955e-14\n",
      "La moneda más probable es la B.  Valores: 4.53238750886e-27 y 1.71119750952e-13\n",
      "La moneda más probable es la A.  Valores: 0.0204542123755 y 5.62802714805e-07\n",
      "La moneda más probable es la B.  Valores: 5.69502129344e-26 y 9.55621560495e-13\n",
      "La moneda más probable es la B.  Valores: 1.24835712294e-27 y 7.06973618955e-14\n",
      "La moneda más probable es la B.  Valores: 7.44422734463e-24 y 2.46743192216e-11\n",
      "La moneda más probable es la A.  Valores: 7.69921484877e-05 y 9.55621560495e-13\n",
      "La moneda más probable es la B.  Valores: 1.61943733463e-26 y 4.07611092154e-13\n",
      "La moneda más probable es la A.  Valores: 4.92603793641e-05 y 4.07611092154e-13\n",
      "La moneda más probable es la B.  Valores: 7.44422734463e-24 y 2.46743192216e-11\n",
      "La moneda más probable es la B.  Valores: 7.75583192673e-23 y 1.14254002273e-10\n",
      "La moneda más probable es la B.  Valores: 2.36698612211e-29 y 4.52411726564e-15\n",
      "La moneda más probable es la A.  Valores: 0.000267478826599 y 1.1204763318e-11\n",
      "La moneda más probable es la A.  Valores: 0.000118449459212 y 2.20528052422e-12\n",
      "La moneda más probable es la B.  Valores: 2.32673400198e-21 y 1.0155843326e-09\n",
      "La moneda más probable es la B.  Valores: 9.02239415958e-29 y 1.14965803456e-14\n",
      "La moneda más probable es la A.  Valores: 0.000267478826599 y 1.1204763318e-11\n",
      "La moneda más probable es la B.  Valores: 2.25364692559e-24 y 1.1204763318e-11\n",
      "La moneda más probable es la B.  Valores: 6.09786910385e-20 y 7.88630512907e-09\n",
      "La moneda más probable es la A.  Valores: 0.000179390847647 y 5.00982206046e-12\n",
      "La moneda más probable es la A.  Valores: 0.000392681681603 y 2.46743192216e-11\n",
      "La moneda más probable es la B.  Valores: 7.01510301596e-21 y 2.04132450853e-09\n",
      "La moneda más probable es la B.  Valores: 2.32673400198e-21 y 1.0155843326e-09\n",
      "La moneda más probable es la A.  Valores: 0.0236773003862 y 9.77230168434e-07\n",
      "La moneda más probable es la A.  Valores: 6.49404833491e-08 y 4.14160474686e-18\n",
      "La moneda más probable es la A.  Valores: 6.49404833491e-08 y 4.14160474686e-18\n",
      "La moneda más probable es la B.  Valores: 1.24835712294e-27 y 7.06973618955e-14\n",
      "La moneda más probable es la A.  Valores: 0.000567666150247 y 5.35043132594e-11\n",
      "La moneda más probable es la B.  Valores: 1.39887690279e-18 y 5.36044940267e-08\n",
      "La moneda más probable es la A.  Valores: 1.17228773971e-05 y 2.87414508641e-14\n",
      "La moneda más probable es la B.  Valores: 1.24835712294e-27 y 7.06973618955e-14\n",
      "La moneda más probable es la B.  Valores: 3.38339780984e-28 y 2.87414508641e-14\n",
      "La moneda más probable es la B.  Valores: 7.75583192673e-23 y 1.14254002273e-10\n",
      "La moneda más probable es la B.  Valores: 2.36698612211e-29 y 4.52411726564e-15\n",
      "La moneda más probable es la A.  Valores: 0.000567666150247 y 5.35043132594e-11\n",
      "La moneda más probable es la B.  Valores: 7.01510301596e-21 y 2.04132450853e-09\n",
      "La moneda más probable es la B.  Valores: 2.4213328942e-23 y 5.35043132594e-11\n",
      "La moneda más probable es la A.  Valores: 4.15185241146e-06 y 4.52411726564e-15\n",
      "La moneda más probable es la B.  Valores: 1.61943733463e-26 y 4.07611092154e-13\n",
      "La moneda más probable es la B.  Valores: 4.53238750886e-27 y 1.71119750952e-13\n",
      "La moneda más probable es la A.  Valores: 0.00156469698016 y 4.9773687588e-10\n",
      "La moneda más probable es la A.  Valores: 1.69657012749e-08 y 4.8088632894e-19\n",
      "La moneda más probable es la A.  Valores: 3.10200973826e-05 y 1.71119750952e-13\n",
      "La moneda más probable es la B.  Valores: 1.24835712294e-27 y 7.06973618955e-14\n",
      "La moneda más probable es la B.  Valores: 6.71760141281e-25 y 5.00982206046e-12\n",
      "La moneda más probable es la B.  Valores: 2.4213328942e-23 y 5.35043132594e-11\n",
      "La moneda más probable es la B.  Valores: 6.54459773187e-35 y 4.8088632894e-19\n"
     ]
    }
   ],
   "source": [
    "# para los 5 experimentos:\n",
    "emA = []\n",
    "for X in obs:\n",
    "    Ncaras = np.sum(X)\n",
    "    L_A = stats.binom.pmf(Ncaras,Nsor,epA)\n",
    "    L_B = stats.binom.pmf(Ncaras,Nsor,epB)\n",
    "    if(L_A>L_B): \n",
    "        S=\"A\"\n",
    "        emA.append(True)\n",
    "    else:\n",
    "        S=\"B\"\n",
    "        emA.append(False)\n",
    "    print('La moneda más probable es la {}.  Valores: {} y {}'.format(S, L_A, L_B))\n",
    "emA = np.array(emA)"
   ]
  },
  {
   "cell_type": "code",
   "execution_count": 69,
   "metadata": {},
   "outputs": [
    {
     "name": "stdout",
     "output_type": "stream",
     "text": [
      "[False  True  True False False  True False False False  True False  True\n",
      " False False False  True  True False False  True False False  True  True\n",
      " False False  True  True  True False  True False  True False False False\n",
      " False  True False False  True False False  True  True  True False False\n",
      " False False]\n",
      "['B' 'A' 'A' 'B' 'B' 'A' 'B' 'B' 'B' 'A' 'B' 'A' 'B' 'B' 'B' 'A' 'A' 'B'\n",
      " 'B' 'A' 'B' 'B' 'A' 'A' 'B' 'B' 'A' 'A' 'A' 'B' 'A' 'B' 'A' 'B' 'B' 'B'\n",
      " 'B' 'A' 'B' 'B' 'A' 'B' 'B' 'A' 'A' 'A' 'B' 'B' 'B' 'B']\n"
     ]
    }
   ],
   "source": [
    "print(emA)\n",
    "print(monedas(emA, Nexp))"
   ]
  },
  {
   "cell_type": "markdown",
   "metadata": {},
   "source": [
    "#### paso 3: \n",
    "\n",
    "#### IDEA: _asumo_ estos valores para las variables latentes y estimo los parámetros usando _maximum likelihood_"
   ]
  },
  {
   "cell_type": "code",
   "execution_count": 70,
   "metadata": {},
   "outputs": [
    {
     "name": "stdout",
     "output_type": "stream",
     "text": [
      "(0.3, 0.6941666666666667, 0.7, 0.3051111111111111)\n"
     ]
    }
   ],
   "source": [
    "# Lo mismo que para el caso completo, pero usando emA en lugar de mA:\n",
    "fA = 1.0 * np.sum(obs[emA]) / np.size(obs[emA])\n",
    "fB = 1.0 * np.sum(obs[~emA]) / np.size(obs[~emA])\n",
    "print(pA, fA, pB, fB)"
   ]
  },
  {
   "cell_type": "markdown",
   "metadata": {},
   "source": [
    "#### Repito lo mismo hasta convergencia:"
   ]
  },
  {
   "cell_type": "code",
   "execution_count": 71,
   "metadata": {},
   "outputs": [
    {
     "name": "stdout",
     "output_type": "stream",
     "text": [
      "(array([False,  True,  True, False, False,  True, False, False, False,\n",
      "        True, False,  True, False, False, False,  True,  True, False,\n",
      "       False,  True, False, False,  True,  True, False, False,  True,\n",
      "        True,  True, False,  True, False,  True, False, False, False,\n",
      "       False,  True, False, False,  True, False, False,  True,  True,\n",
      "        True, False, False, False, False], dtype=bool), 0.9, 0.1)\n",
      "(array([False,  True,  True, False, False,  True, False, False, False,\n",
      "        True, False,  True, False, False, False,  True,  True, False,\n",
      "       False,  True, False, False,  True,  True, False, False,  True,\n",
      "        True,  True, False,  True, False,  True, False, False, False,\n",
      "       False,  True, False, False,  True, False, False,  True,  True,\n",
      "        True, False, False, False, False], dtype=bool), 0.6941666666666667, 0.3051111111111111)\n",
      "(array([False,  True,  True, False, False,  True, False, False, False,\n",
      "        True, False,  True, False, False, False,  True,  True, False,\n",
      "       False,  True, False, False,  True,  True, False, False,  True,\n",
      "        True,  True, False,  True, False,  True, False, False, False,\n",
      "       False,  True, False, False,  True, False, False,  True,  True,\n",
      "        True, False, False, False, False], dtype=bool), 0.6941666666666667, 0.3051111111111111)\n",
      "(array([False,  True,  True, False, False,  True, False, False, False,\n",
      "        True, False,  True, False, False, False,  True,  True, False,\n",
      "       False,  True, False, False,  True,  True, False, False,  True,\n",
      "        True,  True, False,  True, False,  True, False, False, False,\n",
      "       False,  True, False, False,  True, False, False,  True,  True,\n",
      "        True, False, False, False, False], dtype=bool), 0.6941666666666667, 0.3051111111111111)\n",
      "(array([False,  True,  True, False, False,  True, False, False, False,\n",
      "        True, False,  True, False, False, False,  True,  True, False,\n",
      "       False,  True, False, False,  True,  True, False, False,  True,\n",
      "        True,  True, False,  True, False,  True, False, False, False,\n",
      "       False,  True, False, False,  True, False, False,  True,  True,\n",
      "        True, False, False, False, False], dtype=bool), 0.6941666666666667, 0.3051111111111111)\n",
      "(array([False,  True,  True, False, False,  True, False, False, False,\n",
      "        True, False,  True, False, False, False,  True,  True, False,\n",
      "       False,  True, False, False,  True,  True, False, False,  True,\n",
      "        True,  True, False,  True, False,  True, False, False, False,\n",
      "       False,  True, False, False,  True, False, False,  True,  True,\n",
      "        True, False, False, False, False], dtype=bool), 0.6941666666666667, 0.3051111111111111)\n",
      "(array([False,  True,  True, False, False,  True, False, False, False,\n",
      "        True, False,  True, False, False, False,  True,  True, False,\n",
      "       False,  True, False, False,  True,  True, False, False,  True,\n",
      "        True,  True, False,  True, False,  True, False, False, False,\n",
      "       False,  True, False, False,  True, False, False,  True,  True,\n",
      "        True, False, False, False, False], dtype=bool), 0.6941666666666667, 0.3051111111111111)\n",
      "(array([False,  True,  True, False, False,  True, False, False, False,\n",
      "        True, False,  True, False, False, False,  True,  True, False,\n",
      "       False,  True, False, False,  True,  True, False, False,  True,\n",
      "        True,  True, False,  True, False,  True, False, False, False,\n",
      "       False,  True, False, False,  True, False, False,  True,  True,\n",
      "        True, False, False, False, False], dtype=bool), 0.6941666666666667, 0.3051111111111111)\n",
      "(array([False,  True,  True, False, False,  True, False, False, False,\n",
      "        True, False,  True, False, False, False,  True,  True, False,\n",
      "       False,  True, False, False,  True,  True, False, False,  True,\n",
      "        True,  True, False,  True, False,  True, False, False, False,\n",
      "       False,  True, False, False,  True, False, False,  True,  True,\n",
      "        True, False, False, False, False], dtype=bool), 0.6941666666666667, 0.3051111111111111)\n",
      "(array([False,  True,  True, False, False,  True, False, False, False,\n",
      "        True, False,  True, False, False, False,  True,  True, False,\n",
      "       False,  True, False, False,  True,  True, False, False,  True,\n",
      "        True,  True, False,  True, False,  True, False, False, False,\n",
      "       False,  True, False, False,  True, False, False,  True,  True,\n",
      "        True, False, False, False, False], dtype=bool), 0.6941666666666667, 0.3051111111111111)\n",
      "(array([False,  True,  True, False, False,  True, False, False, False,\n",
      "        True, False,  True, False, False, False,  True,  True, False,\n",
      "       False,  True, False, False,  True,  True, False, False,  True,\n",
      "        True,  True, False,  True, False,  True, False, False, False,\n",
      "       False,  True, False, False,  True, False, False,  True,  True,\n",
      "        True, False, False, False, False], dtype=bool), 0.6941666666666667, 0.3051111111111111)\n"
     ]
    }
   ],
   "source": [
    "# estima inicial\n",
    "epA = 0.9\n",
    "epB = 0.1\n",
    "print(emA, epA, epB)\n",
    "\n",
    "for _ in range(10):\n",
    "    emA = []\n",
    "    for X in obs:\n",
    "        Ncaras = np.sum(X)\n",
    "        L_A = stats.binom.pmf(Ncaras,Nsor,epA)\n",
    "        L_B = stats.binom.pmf(Ncaras,Nsor,epB)\n",
    "        if(L_A>L_B): \n",
    "            emA.append(True)\n",
    "        else:\n",
    "            emA.append(False)\n",
    "    emA = np.array(emA)\n",
    "    \n",
    "    epA = 1.0 * np.sum(obs[emA]) / np.size(obs[emA])\n",
    "    epB = 1.0 * np.sum(obs[~emA]) / np.size(obs[~emA])\n",
    "    print(emA, epA, epB)"
   ]
  },
  {
   "cell_type": "markdown",
   "metadata": {},
   "source": [
    "#### EM: en lugar de elegir la moneda \"más probable\", tomo una probabilidad para cada moneda"
   ]
  },
  {
   "cell_type": "markdown",
   "metadata": {},
   "source": [
    "En la version anterior, asignamos \"probabilidades\" 0 y 1 a las monedas según cual era la más probable, es decir, asumimos la variable latente como conocida.   Ahora vamos a asignarle una probabilidad a cada moneda."
   ]
  },
  {
   "cell_type": "markdown",
   "metadata": {},
   "source": [
    "Para el experimento 1:"
   ]
  },
  {
   "cell_type": "code",
   "execution_count": 72,
   "metadata": {
    "collapsed": true
   },
   "outputs": [],
   "source": [
    "for i in range(Nexp):    \n",
    "    if(mA[i]):\n",
    "        p = pA\n",
    "    else:\n",
    "        p = pB        \n",
    "    obs[i] = [gen_bernoulli(p) for _ in range(Nsor)]"
   ]
  },
  {
   "cell_type": "code",
   "execution_count": 73,
   "metadata": {},
   "outputs": [
    {
     "name": "stdout",
     "output_type": "stream",
     "text": [
      "(3.2650570167527731e-46, 0.045778631565706641, 7.1322730826202087e-45, 1.0)\n"
     ]
    }
   ],
   "source": [
    "Ncaras = np.sum(obs[0])\n",
    "\n",
    "L_A = stats.binom.pmf(Ncaras,Nsor,epA)\n",
    "L_B = stats.binom.pmf(Ncaras,Nsor,epB)\n",
    "\n",
    "# EXPECTACION\n",
    "\n",
    "mpA = L_A / (L_A + L_B)\n",
    "mpB = L_B / (L_A + L_B)\n",
    "\n",
    "print (L_A, L_B, mpA, mpB)"
   ]
  },
  {
   "cell_type": "markdown",
   "metadata": {},
   "source": [
    "El **modelo** ahora es la distribunción Binomial con los parámetros estimados **mpA** y **mpB**\n",
    "\n",
    "Ahora hacemos el paso de MAXIMIZACION"
   ]
  },
  {
   "cell_type": "code",
   "execution_count": 74,
   "metadata": {},
   "outputs": [
    {
     "name": "stdout",
     "output_type": "stream",
     "text": [
      "(6.2764003127057836e-43, 6.2764003127057836e-43, 88.0, 88.0)\n"
     ]
    }
   ],
   "source": [
    "eCA = Ncaras*mpA\n",
    "eXA = Ncaras*mpA\n",
    "eCB = Ncaras*mpB\n",
    "eXB = Ncaras*mpB\n",
    "\n",
    "print(eCA, eXA, eCB, eXB)"
   ]
  },
  {
   "cell_type": "markdown",
   "metadata": {},
   "source": [
    "Para los 5 experimentos:"
   ]
  },
  {
   "cell_type": "code",
   "execution_count": 75,
   "metadata": {},
   "outputs": [
    {
     "name": "stdout",
     "output_type": "stream",
     "text": [
      "(4163.0, 1837.0, 2691.0, 6309.0)\n"
     ]
    }
   ],
   "source": [
    "eCAT = []\n",
    "eXAT = []\n",
    "eCBT = []\n",
    "eXBT = []\n",
    "\n",
    "for X in obs:    \n",
    "    Ncaras = np.sum(X)\n",
    "    L_A = stats.binom.pmf(Ncaras,Nsor,epA)\n",
    "    L_B = stats.binom.pmf(Ncaras,Nsor,epB)\n",
    "    mpA = L_A / (L_A + L_B)\n",
    "    mpB = L_B / (L_A + L_B)\n",
    "    \n",
    "    eCA = Ncaras*mpA\n",
    "    eCAT.append(eCA)\n",
    "    \n",
    "    eXA = (Nsor-Ncaras)*mpA\n",
    "    eXAT.append(eXA)    \n",
    "    \n",
    "    eCB = Ncaras*mpB\n",
    "    eCBT.append(eCB)\n",
    "        \n",
    "    eXB = (Nsor-Ncaras)*mpB\n",
    "    eXBT.append(eXB)\n",
    "        \n",
    "print(np.sum(eCAT), np.sum(eXAT), np.sum(eCBT), np.sum(eXBT))"
   ]
  },
  {
   "cell_type": "markdown",
   "metadata": {},
   "source": [
    "![title](EM2.png)"
   ]
  },
  {
   "cell_type": "code",
   "execution_count": 76,
   "metadata": {},
   "outputs": [],
   "source": [
    "a = stats.binom.pmf(5,10,0.6)\n",
    "b= stats.binom.pmf(5,10,0.5)"
   ]
  },
  {
   "cell_type": "code",
   "execution_count": 77,
   "metadata": {},
   "outputs": [
    {
     "data": {
      "text/plain": [
       "0.4491489261009366"
      ]
     },
     "execution_count": 77,
     "metadata": {},
     "output_type": "execute_result"
    }
   ],
   "source": [
    "a / (a+b)"
   ]
  },
  {
   "cell_type": "code",
   "execution_count": 78,
   "metadata": {},
   "outputs": [
    {
     "data": {
      "text/plain": [
       "0.5508510738990634"
      ]
     },
     "execution_count": 78,
     "metadata": {},
     "output_type": "execute_result"
    }
   ],
   "source": [
    "b / (a + b)"
   ]
  },
  {
   "cell_type": "code",
   "execution_count": 79,
   "metadata": {},
   "outputs": [
    {
     "name": "stdout",
     "output_type": "stream",
     "text": [
      "(0.6938333333333333, 0.29899999999999999)\n"
     ]
    }
   ],
   "source": [
    "epA = np.sum(eCAT) / (np.sum(eCAT) + np.sum(eXAT))\n",
    "epB = np.sum(eCBT) / (np.sum(eCBT) + np.sum(eXBT))\n",
    "\n",
    "print(epA, epB)"
   ]
  },
  {
   "cell_type": "markdown",
   "metadata": {},
   "source": [
    "## PASO 3: EM"
   ]
  },
  {
   "cell_type": "code",
   "execution_count": 80,
   "metadata": {},
   "outputs": [
    {
     "name": "stdout",
     "output_type": "stream",
     "text": [
      "(1, 0.29899999999999999, 0.6938333333333333)\n",
      "(2, 0.29899999999999999, 0.6938333333333333)\n",
      "(3, 0.29899999999999999, 0.6938333333333333)\n",
      "(4, 0.29899999999999999, 0.6938333333333333)\n",
      "(5, 0.29899999999999999, 0.6938333333333333)\n",
      "(6, 0.29899999999999999, 0.6938333333333333)\n",
      "(7, 0.29899999999999999, 0.6938333333333333)\n",
      "(8, 0.29899999999999999, 0.6938333333333333)\n",
      "(9, 0.29899999999999999, 0.6938333333333333)\n",
      "(10, 0.29899999999999999, 0.6938333333333333)\n"
     ]
    }
   ],
   "source": [
    "epA = 0.4\n",
    "epB = 0.6\n",
    "\n",
    "ipA = []\n",
    "ipB = []\n",
    "\n",
    "for itera in range(N_itera):\n",
    "\n",
    "    eCAT = []\n",
    "    eXAT = []\n",
    "    eCBT = []\n",
    "    eXBT = []\n",
    "\n",
    "    for X in obs:\n",
    "               \n",
    "        Ncaras = np.sum(X)\n",
    "        L_A = stats.binom.pmf(Ncaras,Nsor,epA)\n",
    "        L_B = stats.binom.pmf(Ncaras,Nsor,epB)\n",
    "        mpA = L_A / (L_A + L_B)\n",
    "        mpB = L_B / (L_A + L_B)\n",
    "        \n",
    "        eCA = Ncaras*mpA\n",
    "        eCAT.append(eCA)\n",
    "        \n",
    "        eXA = (Nsor-Ncaras)*mpA\n",
    "        eXAT.append(eXA)    \n",
    "        \n",
    "        eCB = Ncaras*mpB\n",
    "        eCBT.append(eCB)\n",
    "            \n",
    "        eXB = (Nsor-Ncaras)*mpB\n",
    "        eXBT.append(eXB)\n",
    "        \n",
    "    epA = np.sum(eCAT) / (np.sum(eCAT) + np.sum(eXAT))\n",
    "    epB = np.sum(eCBT) / (np.sum(eCBT) + np.sum(eXBT))\n",
    "    \n",
    "    ipA.append(epA)\n",
    "    ipB.append(epB)\n",
    "    \n",
    "    print(itera+1, epA, epB)\n",
    "    "
   ]
  },
  {
   "cell_type": "code",
   "execution_count": 81,
   "metadata": {},
   "outputs": [
    {
     "data": {
      "text/plain": [
       "<matplotlib.legend.Legend at 0x7f0762f5d690>"
      ]
     },
     "execution_count": 81,
     "metadata": {},
     "output_type": "execute_result"
    },
    {
     "data": {
      "image/png": "[encoded data removed]",
      "text/plain": [
       "<matplotlib.figure.Figure at 0x7f0762f07190>"
      ]
     },
     "metadata": {},
     "output_type": "display_data"
    }
   ],
   "source": [
    "x = range(N_itera)\n",
    "\n",
    "fig, ax = plt.subplots(figsize=(6,6))\n",
    "l1 = plt.plot(x, ipA,\"r-\", label=\"A\")\n",
    "l2 = plt.plot(x, ipB,\"b-\", label=\"B\")\n",
    "ax.axhline(y=pA, color='r', linestyle='--')\n",
    "ax.set_xlabel('numero de iteraciones')\n",
    "ax.axhline(y=pB, color='b', linestyle='--')\n",
    "ax.set_ylabel('probabilidad estimada')\n",
    "ax.set_ylim((0,1))\n",
    "ax.set_xlim((0,N_itera))\n",
    "ax.legend(labels=[\"p(A)\", \"p(B)\"])"
   ]
  },
  {
   "cell_type": "code",
   "execution_count": null,
   "metadata": {
    "collapsed": true
   },
   "outputs": [],
   "source": []
  },
  {
   "cell_type": "code",
   "execution_count": null,
   "metadata": {
    "collapsed": true
   },
   "outputs": [],
   "source": []
  }
 ],
 "metadata": {
  "kernelspec": {
   "display_name": "Python 2",
   "language": "python",
   "name": "python2"
  },
  "language_info": {
   "codemirror_mode": {
    "name": "ipython",
    "version": 2
   },
   "file_extension": ".py",
   "mimetype": "text/x-python",
   "name": "python",
   "nbconvert_exporter": "python",
   "pygments_lexer": "ipython2",
   "version": "2.7.12"
  }
 },
 "nbformat": 4,
 "nbformat_minor": 1
}
