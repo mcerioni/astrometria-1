{
 "cells": [
  {
   "cell_type": "markdown",
   "metadata": {},
   "source": [
    "Notebook basado en el artículo:\n",
    "What is the expectation maximization algorithm?, by Chuong B Do & Serafim Batzoglou\n",
    "http://ai.stanford.edu/~chuongdo/papers/em_tutorial.pdf"
   ]
  },
  {
   "cell_type": "markdown",
   "metadata": {},
   "source": [
    "Problema:\n",
    "    \n",
    "    Se tienen dos monedas con sesgos desconocidos.  Es decir, la probabilidad de que salga cara NO es 1/2, y además es diferente para cada una.  Se busca determinar los valores de esas probabilidades. \n",
    "    \n",
    "    Para eso se realiza el siguiente experimento:\n",
    "    \n",
    "    1. Elegir una moneda al azar\n",
    "    2. sortear esa moneda 10 veces\n",
    "    3. repetir (1.) 5 veces\n",
    "    \n",
    "Al final se tienen en total 50 sorteos de las monedas."
   ]
  },
  {
   "cell_type": "code",
   "execution_count": 231,
   "metadata": {
    "collapsed": true
   },
   "outputs": [],
   "source": [
    "import numpy as np\n",
    "from scipy import stats\n",
    "import matplotlib.pyplot as plt\n",
    "import seaborn as sns\n",
    "import random\n",
    "%matplotlib inline"
   ]
  },
  {
   "cell_type": "markdown",
   "metadata": {},
   "source": [
    "Definir una funcion que muestre la distribucion binomial (muchos resultados de simular una moneda)"
   ]
  },
  {
   "cell_type": "code",
   "execution_count": 232,
   "metadata": {
    "collapsed": true
   },
   "outputs": [],
   "source": [
    "def plot_binomial(p=0.5, n=10):\n",
    "    a=range(n+1)\n",
    "    fig, ax = plt.subplots(figsize=(6,4))\n",
    "    y = [0]*(n+1)\n",
    "    for i in a:\n",
    "        y[i] =  stats.binom.pmf(i, n, p)\n",
    "    ax.bar(a,y,label=\"$p = %.1f$\" % p)\n",
    "    ax.set_ylabel('FMP del nro. de caras')\n",
    "    ax.set_xlabel('$k$')\n",
    "    ax.set_ylim((0,0.5))\n",
    "    ax.set_xlim((-1,n+1))\n",
    "    ax.legend()\n",
    "    return fig"
   ]
  },
  {
   "cell_type": "markdown",
   "metadata": {},
   "source": [
    "Mostrar la distribucion Binomial"
   ]
  },
  {
   "cell_type": "code",
   "execution_count": 233,
   "metadata": {},
   "outputs": [
    {
     "data": {
      "image/png": "[encoded data removed]",
      "text/plain": [
       "<matplotlib.figure.Figure at 0x7fc730303810>"
      ]
     },
     "metadata": {},
     "output_type": "display_data"
    }
   ],
   "source": [
    "f = plot_binomial(0.2)"
   ]
  },
  {
   "cell_type": "markdown",
   "metadata": {},
   "source": [
    "## Simular un experimento:"
   ]
  },
  {
   "cell_type": "code",
   "execution_count": 300,
   "metadata": {
    "collapsed": true
   },
   "outputs": [],
   "source": [
    "Nexp = 5   # numero de experimentos (monedas)\n",
    "Nsor = 10  # numero de veces que tiro la moneda en cada experimento\n",
    "pA = 0.3   # probabilidad de que salga cara en la moneda A\n",
    "pB = 0.7   # probabilidad de que salga cara en la moneda B\n",
    "pM = 0.5   # probabiidad de elegir la moneda A\n",
    "N_itera = 10 # cantidad de iteraciones en el metodo EM\n",
    "obs = np.empty([Nexp, Nsor], dtype=bool)"
   ]
  },
  {
   "cell_type": "code",
   "execution_count": 301,
   "metadata": {
    "collapsed": true
   },
   "outputs": [],
   "source": [
    "def gen_bernoulli(p):\n",
    "    x = random.random()\n",
    "    if x<p:\n",
    "        r = True\n",
    "    else:\n",
    "        r = False\n",
    "    return(r)"
   ]
  },
  {
   "cell_type": "code",
   "execution_count": 302,
   "metadata": {
    "collapsed": true
   },
   "outputs": [],
   "source": [
    "def monedas(emA,Nexp):\n",
    "    As = np.array([\"A\"]*Nexp)\n",
    "    Bs = np.array([\"B\"]*Nexp)\n",
    "    T = As\n",
    "    T[emA] = As[emA]\n",
    "    T[~emA] = Bs[~emA]\n",
    "    return(T)"
   ]
  },
  {
   "cell_type": "code",
   "execution_count": 303,
   "metadata": {
    "collapsed": true
   },
   "outputs": [],
   "source": [
    "def eP(emA, pA, pB, Nexp):\n",
    "    As = np.array([\"A\"]*Nexp)\n",
    "    Bs = np.array([\"B\"]*Nexp)\n",
    "    T = As\n",
    "    T[emA] = As[emA]\n",
    "    T[~emA] = Bs[~emA]\n",
    "    return(T)"
   ]
  },
  {
   "cell_type": "markdown",
   "metadata": {},
   "source": [
    "Elegir monedas:"
   ]
  },
  {
   "cell_type": "code",
   "execution_count": 304,
   "metadata": {},
   "outputs": [
    {
     "name": "stdout",
     "output_type": "stream",
     "text": [
      "[ True False  True  True  True]\n",
      "['A' 'B' 'A' 'A' 'A']\n"
     ]
    }
   ],
   "source": [
    "mA = np.array([gen_bernoulli(pM) for _ in range(Nexp)])\n",
    "print mA\n",
    "T = monedas(mA, Nexp)\n",
    "print(T)"
   ]
  },
  {
   "cell_type": "markdown",
   "metadata": {},
   "source": [
    "Tiradas de las monedas:"
   ]
  },
  {
   "cell_type": "code",
   "execution_count": 305,
   "metadata": {
    "collapsed": true
   },
   "outputs": [],
   "source": [
    "for i in range(Nexp):\n",
    "    \n",
    "    if(mA[i]):\n",
    "        p = pA\n",
    "    else:\n",
    "        p = pB\n",
    "        \n",
    "    obs[i] = [gen_bernoulli(p) for _ in range(Nsor)]"
   ]
  },
  {
   "cell_type": "code",
   "execution_count": 306,
   "metadata": {},
   "outputs": [
    {
     "name": "stdout",
     "output_type": "stream",
     "text": [
      "[[False False  True False  True False False  True  True  True]\n",
      " [False  True  True  True False False  True  True  True  True]\n",
      " [ True False False False  True  True False  True False  True]\n",
      " [False False False False  True False False False False False]\n",
      " [False False False  True  True  True False  True False False]]\n"
     ]
    }
   ],
   "source": [
    "print obs"
   ]
  },
  {
   "cell_type": "markdown",
   "metadata": {},
   "source": [
    "------------------------------------>> Objetivo: estimar pA y pB <<----------------------------------------"
   ]
  },
  {
   "cell_type": "markdown",
   "metadata": {},
   "source": [
    "## Estimaciones de la probabilidad: Caso \"completo\""
   ]
  },
  {
   "cell_type": "markdown",
   "metadata": {},
   "source": [
    "![title](EM1.png)"
   ]
  },
  {
   "cell_type": "code",
   "execution_count": 307,
   "metadata": {},
   "outputs": [
    {
     "name": "stdout",
     "output_type": "stream",
     "text": [
      "(0.3, 0.375, 0.7, 0.7)\n"
     ]
    }
   ],
   "source": [
    "fA = 1.0 * np.sum(obs[mA]) / np.size(obs[mA])\n",
    "fB = 1.0 * np.sum(obs[~mA]) / np.size(obs[~mA])\n",
    "print(pA, fA, pB, fB)"
   ]
  },
  {
   "cell_type": "code",
   "execution_count": 308,
   "metadata": {},
   "outputs": [
    {
     "name": "stderr",
     "output_type": "stream",
     "text": [
      "/home/marce/TeachJob/Astrometria/pyramid/lib/python2.7/site-packages/matplotlib/axes/_axes.py:545: UserWarning: No labelled objects found. Use label='...' kwarg on individual plots.\n",
      "  warnings.warn(\"No labelled objects found. \"\n"
     ]
    },
    {
     "data": {
      "image/png": "[encoded data removed]",
      "text/plain": [
       "<matplotlib.figure.Figure at 0x7fc730e49750>"
      ]
     },
     "metadata": {},
     "output_type": "display_data"
    }
   ],
   "source": [
    "fig, ax = plt.subplots(figsize=(6,6))\n",
    "plt.plot([0,1],[0,1],\"k-\")\n",
    "plt.plot([pA,pB],[fA,fB],\"o\")\n",
    "ax.set_xlabel('probabilidad verdadera')\n",
    "ax.set_ylabel('probabilidad estimada')\n",
    "ax.set_ylim((0,1))\n",
    "ax.set_xlim((0,1))\n",
    "ax.legend()"
   ]
  },
  {
   "cell_type": "markdown",
   "metadata": {},
   "source": [
    "### Estimaciones de la probabilidad: Caso \"incompleto\": \n",
    "#### Aplicación del algoritmo de expectación-maximización"
   ]
  },
  {
   "cell_type": "markdown",
   "metadata": {},
   "source": [
    "#### paso 1: asumir valores para los parámetos pA y pB (desconocidos)"
   ]
  },
  {
   "cell_type": "code",
   "execution_count": 309,
   "metadata": {
    "collapsed": true
   },
   "outputs": [],
   "source": [
    "epA = 0.6\n",
    "epB = 0.5"
   ]
  },
  {
   "cell_type": "markdown",
   "metadata": {},
   "source": [
    "#### paso 2: determinar para cada experimento cual de las monedas es la más probable"
   ]
  },
  {
   "cell_type": "code",
   "execution_count": 310,
   "metadata": {},
   "outputs": [
    {
     "name": "stdout",
     "output_type": "stream",
     "text": [
      "[False False  True False  True False False  True  True  True]\n",
      "(0.20065812480000034, 0.24609375000000025)\n"
     ]
    }
   ],
   "source": [
    "# Experimento 1:\n",
    "print(obs[0])\n",
    "Ncaras = np.sum(obs[0])\n",
    "L_A1 = stats.binom.pmf(Ncaras,Nsor,epA)\n",
    "L_B1 = stats.binom.pmf(Ncaras,Nsor,epB)\n",
    "print(L_A1, L_B1)"
   ]
  },
  {
   "cell_type": "code",
   "execution_count": 311,
   "metadata": {},
   "outputs": [
    {
     "name": "stdout",
     "output_type": "stream",
     "text": [
      "La moneda más probable es la B.  Valores: 0.2006581248 y 0.24609375\n",
      "La moneda más probable es la A.  Valores: 0.214990848 y 0.1171875\n",
      "La moneda más probable es la B.  Valores: 0.2006581248 y 0.24609375\n",
      "La moneda más probable es la B.  Valores: 0.001572864 y 0.009765625\n",
      "La moneda más probable es la B.  Valores: 0.111476736 y 0.205078125\n"
     ]
    }
   ],
   "source": [
    "# para los 5 experimentos:\n",
    "emA = []\n",
    "for X in obs:\n",
    "    Ncaras = np.sum(X)\n",
    "    L_A = stats.binom.pmf(Ncaras,Nsor,epA)\n",
    "    L_B = stats.binom.pmf(Ncaras,Nsor,epB)\n",
    "    if(L_A>L_B): \n",
    "        S=\"A\"\n",
    "        emA.append(True)\n",
    "    else:\n",
    "        S=\"B\"\n",
    "        emA.append(False)\n",
    "    print('La moneda más probable es la {}.  Valores: {} y {}'.format(S, L_A, L_B))\n",
    "emA = np.array(emA)"
   ]
  },
  {
   "cell_type": "code",
   "execution_count": 312,
   "metadata": {},
   "outputs": [
    {
     "name": "stdout",
     "output_type": "stream",
     "text": [
      "[False  True False False False]\n",
      "['B' 'A' 'B' 'B' 'B']\n"
     ]
    }
   ],
   "source": [
    "print(emA)\n",
    "print(monedas(emA, Nexp))"
   ]
  },
  {
   "cell_type": "markdown",
   "metadata": {},
   "source": [
    "#### paso 3: \n",
    "\n",
    "#### IDEA: _asumo_ estos valores para las variables latentes y estimo los parámetros usando _maximum likelihood_"
   ]
  },
  {
   "cell_type": "code",
   "execution_count": 324,
   "metadata": {},
   "outputs": [
    {
     "name": "stdout",
     "output_type": "stream",
     "text": [
      "(0.3, 0.5, 0.7, 0.275)\n"
     ]
    }
   ],
   "source": [
    "# Lo mismo que para el caso completo, pero usando emA en lugar de mA:\n",
    "fA = 1.0 * np.sum(obs[emA]) / np.size(obs[emA])\n",
    "fB = 1.0 * np.sum(obs[~emA]) / np.size(obs[~emA])\n",
    "print(pA, fA, pB, fB)"
   ]
  },
  {
   "cell_type": "markdown",
   "metadata": {},
   "source": [
    "#### Repito lo mismo hasta convergencia:"
   ]
  },
  {
   "cell_type": "code",
   "execution_count": 314,
   "metadata": {},
   "outputs": [
    {
     "name": "stdout",
     "output_type": "stream",
     "text": [
      "(array([False,  True, False, False, False], dtype=bool), 0.9, 0.1)\n",
      "(array([False,  True, False, False, False], dtype=bool), 0.7, 0.375)\n",
      "(array([False,  True, False, False, False], dtype=bool), 0.7, 0.375)\n",
      "(array([False,  True, False, False, False], dtype=bool), 0.7, 0.375)\n",
      "(array([False,  True, False, False, False], dtype=bool), 0.7, 0.375)\n",
      "(array([False,  True, False, False, False], dtype=bool), 0.7, 0.375)\n",
      "(array([False,  True, False, False, False], dtype=bool), 0.7, 0.375)\n",
      "(array([False,  True, False, False, False], dtype=bool), 0.7, 0.375)\n",
      "(array([False,  True, False, False, False], dtype=bool), 0.7, 0.375)\n",
      "(array([False,  True, False, False, False], dtype=bool), 0.7, 0.375)\n",
      "(array([False,  True, False, False, False], dtype=bool), 0.7, 0.375)\n"
     ]
    }
   ],
   "source": [
    "# estima inicial\n",
    "epA = 0.9\n",
    "epB = 0.1\n",
    "print(emA, epA, epB)\n",
    "\n",
    "for _ in range(10):\n",
    "    emA = []\n",
    "    for X in obs:\n",
    "        Ncaras = np.sum(X)\n",
    "        L_A = stats.binom.pmf(Ncaras,Nsor,epA)\n",
    "        L_B = stats.binom.pmf(Ncaras,Nsor,epB)\n",
    "        if(L_A>L_B): \n",
    "            emA.append(True)\n",
    "        else:\n",
    "            emA.append(False)\n",
    "    emA = np.array(emA)\n",
    "    \n",
    "    epA = 1.0 * np.sum(obs[emA]) / np.size(obs[emA])\n",
    "    epB = 1.0 * np.sum(obs[~emA]) / np.size(obs[~emA])\n",
    "    print(emA, epA, epB)"
   ]
  },
  {
   "cell_type": "markdown",
   "metadata": {},
   "source": [
    "#### EM: en lugar de elegir la moneda \"más probable\", tomo una probabilidad para cada moneda"
   ]
  },
  {
   "cell_type": "markdown",
   "metadata": {},
   "source": [
    "En la version anterior, asignamos \"probabilidades\" 0 y 1 a las monedas según cual era la más probable, es decir, asumimos la variable latente como conocida.   Ahora vamos a asignarle una probabilidad a cada moneda."
   ]
  },
  {
   "cell_type": "markdown",
   "metadata": {},
   "source": [
    "Para el experimento 1:"
   ]
  },
  {
   "cell_type": "code",
   "execution_count": 323,
   "metadata": {
    "collapsed": true
   },
   "outputs": [],
   "source": [
    "for i in range(Nexp):    \n",
    "    if(mA[i]):\n",
    "        p = pA\n",
    "    else:\n",
    "        p = pB        \n",
    "    obs[i] = [gen_bernoulli(p) for _ in range(Nsor)]"
   ]
  },
  {
   "cell_type": "code",
   "execution_count": 316,
   "metadata": {},
   "outputs": [
    {
     "name": "stdout",
     "output_type": "stream",
     "text": [
      "(0.036756909000000039, 0.2475280780345204, 0.12929599056012298, 0.87070400943987702)\n"
     ]
    }
   ],
   "source": [
    "Ncaras = np.sum(obs[0])\n",
    "\n",
    "L_A = stats.binom.pmf(Ncaras,Nsor,epA)\n",
    "L_B = stats.binom.pmf(Ncaras,Nsor,epB)\n",
    "\n",
    "# EXPECTACION\n",
    "\n",
    "mpA = L_A / (L_A + L_B)\n",
    "mpB = L_B / (L_A + L_B)\n",
    "\n",
    "print (L_A, L_B, mpA, mpB)"
   ]
  },
  {
   "cell_type": "markdown",
   "metadata": {},
   "source": [
    "El **modelo** ahora es la distribunción Binomial con los parámetros estimados **mpA** y **mpB**\n",
    "\n",
    "Ahora hacemos el paso de MAXIMIZACION"
   ]
  },
  {
   "cell_type": "code",
   "execution_count": 317,
   "metadata": {},
   "outputs": [
    {
     "name": "stdout",
     "output_type": "stream",
     "text": [
      "(0.5171839622404919, 0.5171839622404919, 3.4828160377595081, 3.4828160377595081)\n"
     ]
    }
   ],
   "source": [
    "eCA = Ncaras*mpA\n",
    "eXA = Ncaras*mpA\n",
    "eCB = Ncaras*mpB\n",
    "eXB = Ncaras*mpB\n",
    "\n",
    "print(eCA, eXA, eCB, eXB)"
   ]
  },
  {
   "cell_type": "markdown",
   "metadata": {},
   "source": [
    "Para los 5 experimentos:"
   ]
  },
  {
   "cell_type": "code",
   "execution_count": 322,
   "metadata": {},
   "outputs": [
    {
     "name": "stdout",
     "output_type": "stream",
     "text": [
      "(8.9551990099371093, 16.092530458547571, 17.044800990062893, 7.9074695414524268)\n"
     ]
    }
   ],
   "source": [
    "eCAT = []\n",
    "eXAT = []\n",
    "eCBT = []\n",
    "eXBT = []\n",
    "\n",
    "for X in obs:    \n",
    "    Ncaras = np.sum(X)\n",
    "    L_A = stats.binom.pmf(Ncaras,Nsor,epA)\n",
    "    L_B = stats.binom.pmf(Ncaras,Nsor,epB)\n",
    "    mpA = L_A / (L_A + L_B)\n",
    "    mpB = L_B / (L_A + L_B)\n",
    "    \n",
    "    eCA = Ncaras*mpA\n",
    "    eCAT.append(eCA)\n",
    "    \n",
    "    eXA = (Nsor-Ncaras)*mpA\n",
    "    eXAT.append(eXA)    \n",
    "    \n",
    "    eCB = Ncaras*mpB\n",
    "    eCBT.append(eCB)\n",
    "        \n",
    "    eXB = (Nsor-Ncaras)*mpB\n",
    "    eXBT.append(eXB)\n",
    "        \n",
    "print(np.sum(eCAT), np.sum(eXAT), np.sum(eCBT), np.sum(eXBT))"
   ]
  },
  {
   "cell_type": "markdown",
   "metadata": {},
   "source": [
    "![title](EM2.png)"
   ]
  },
  {
   "cell_type": "code",
   "execution_count": 319,
   "metadata": {},
   "outputs": [
    {
     "name": "stdout",
     "output_type": "stream",
     "text": [
      "(0.69168978615804322, 0.36481599750832866)\n"
     ]
    }
   ],
   "source": [
    "epA = np.sum(eCAT) / (np.sum(eCAT) + np.sum(eXAT))\n",
    "epB = np.sum(eCBT) / (np.sum(eCBT) + np.sum(eXBT))\n",
    "\n",
    "print(epA, epB)"
   ]
  },
  {
   "cell_type": "markdown",
   "metadata": {},
   "source": [
    "## PASO 3: EM"
   ]
  },
  {
   "cell_type": "code",
   "execution_count": 320,
   "metadata": {},
   "outputs": [
    {
     "name": "stdout",
     "output_type": "stream",
     "text": [
      "(1, 0.37790152904355501, 0.64674799847502851)\n",
      "(2, 0.36290759257724142, 0.66910264539125974)\n",
      "(3, 0.35812412514287212, 0.67779305348518137)\n",
      "(4, 0.35721116022906191, 0.68097545248381264)\n",
      "(5, 0.35721430712781593, 0.68219825813696122)\n",
      "(6, 0.35733689891401621, 0.68270145854935116)\n",
      "(7, 0.35742739191107809, 0.68292032662054969)\n",
      "(8, 0.35747889418372869, 0.68301913103217926)\n",
      "(9, 0.35750561125199026, 0.68306476345475009)\n",
      "(10, 0.35751890340054654, 0.68308612078148456)\n"
     ]
    }
   ],
   "source": [
    "epA = 0.4\n",
    "epB = 0.6\n",
    "\n",
    "ipA = []\n",
    "ipB = []\n",
    "\n",
    "for itera in range(N_itera):\n",
    "\n",
    "    eCAT = []\n",
    "    eXAT = []\n",
    "    eCBT = []\n",
    "    eXBT = []\n",
    "\n",
    "    for X in obs:\n",
    "               \n",
    "        Ncaras = np.sum(X)\n",
    "        L_A = stats.binom.pmf(Ncaras,Nsor,epA)\n",
    "        L_B = stats.binom.pmf(Ncaras,Nsor,epB)\n",
    "        mpA = L_A / (L_A + L_B)\n",
    "        mpB = L_B / (L_A + L_B)\n",
    "        \n",
    "        eCA = Ncaras*mpA\n",
    "        eCAT.append(eCA)\n",
    "        \n",
    "        eXA = (Nsor-Ncaras)*mpA\n",
    "        eXAT.append(eXA)    \n",
    "        \n",
    "        eCB = Ncaras*mpB\n",
    "        eCBT.append(eCB)\n",
    "            \n",
    "        eXB = (Nsor-Ncaras)*mpB\n",
    "        eXBT.append(eXB)\n",
    "        \n",
    "    epA = np.sum(eCAT) / (np.sum(eCAT) + np.sum(eXAT))\n",
    "    epB = np.sum(eCBT) / (np.sum(eCBT) + np.sum(eXBT))\n",
    "    \n",
    "    ipA.append(epA)\n",
    "    ipB.append(epB)\n",
    "    \n",
    "    print(itera+1, epA, epB)\n",
    "    "
   ]
  },
  {
   "cell_type": "code",
   "execution_count": 321,
   "metadata": {},
   "outputs": [
    {
     "data": {
      "text/plain": [
       "<matplotlib.legend.Legend at 0x7fc73072b610>"
      ]
     },
     "execution_count": 321,
     "metadata": {},
     "output_type": "execute_result"
    },
    {
     "data": {
      "image/png": "[encoded data removed]",
      "text/plain": [
       "<matplotlib.figure.Figure at 0x7fc72ff06190>"
      ]
     },
     "metadata": {},
     "output_type": "display_data"
    }
   ],
   "source": [
    "x = range(N_itera)\n",
    "\n",
    "fig, ax = plt.subplots(figsize=(6,6))\n",
    "l1 = plt.plot(x, ipA,\"r-\", label=\"A\")\n",
    "l2 = plt.plot(x, ipB,\"b-\", label=\"B\")\n",
    "ax.axhline(y=pA, color='r', linestyle='--')\n",
    "ax.set_xlabel('numero de iteraciones')\n",
    "ax.axhline(y=pB, color='b', linestyle='--')\n",
    "ax.set_ylabel('probabilidad estimada')\n",
    "ax.set_ylim((0,1))\n",
    "ax.set_xlim((0,N_itera))\n",
    "ax.legend(labels=[\"p(A)\", \"p(B)\"])"
   ]
  },
  {
   "cell_type": "code",
   "execution_count": null,
   "metadata": {
    "collapsed": true
   },
   "outputs": [],
   "source": []
  }
 ],
 "metadata": {
  "kernelspec": {
   "display_name": "Python 2",
   "language": "python",
   "name": "python2"
  },
  "language_info": {
   "codemirror_mode": {
    "name": "ipython",
    "version": 2
   },
   "file_extension": ".py",
   "mimetype": "text/x-python",
   "name": "python",
   "nbconvert_exporter": "python",
   "pygments_lexer": "ipython2",
   "version": "2.7.12"
  }
 },
 "nbformat": 4,
 "nbformat_minor": 1
}
